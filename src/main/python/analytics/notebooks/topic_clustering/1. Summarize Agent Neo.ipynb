{
 "cells": [
  {
   "cell_type": "code",
   "execution_count": 1,
   "id": "f859aead-9923-4f52-81b8-301af581c496",
   "metadata": {},
   "outputs": [
    {
     "name": "stderr",
     "output_type": "stream",
     "text": [
      "/Users/nathansmith/anaconda3/envs/chatbot/lib/python3.11/site-packages/tqdm/auto.py:21: TqdmWarning: IProgress not found. Please update jupyter and ipywidgets. See https://ipywidgets.readthedocs.io/en/stable/user_install.html\n",
      "  from .autonotebook import tqdm as notebook_tqdm\n"
     ]
    }
   ],
   "source": [
    "from langchain.prompts.chat import (\n",
    "    ChatPromptTemplate,\n",
    "    HumanMessagePromptTemplate,\n",
    "    SystemMessagePromptTemplate,\n",
    ")\n",
    "from langchain.schema import HumanMessage, SystemMessage\n",
    "from langchain_openai import ChatOpenAI\n",
    "from graphdatascience import GraphDataScience\n",
    "from getpass import getpass\n",
    "import pandas as pd\n",
    "from langchain_core.runnables import RunnableConfig\n",
    "import time"
   ]
  },
  {
   "cell_type": "markdown",
   "id": "fb1c38cc-96a9-4a65-98c0-c0fea8f128ab",
   "metadata": {},
   "source": [
    "# Set up connections"
   ]
  },
  {
   "cell_type": "code",
   "execution_count": 2,
   "id": "6caa21d4-d1b4-4763-af4d-7c5e9e4ced0d",
   "metadata": {},
   "outputs": [],
   "source": [
    "pd.set_option('display.max_colwidth', None)"
   ]
  },
  {
   "cell_type": "code",
   "execution_count": 3,
   "id": "251a00fe-085c-49da-bc21-527cb0301e67",
   "metadata": {},
   "outputs": [
    {
     "name": "stdin",
     "output_type": "stream",
     "text": [
      " ········\n"
     ]
    }
   ],
   "source": [
    "openai_api_key = getpass()"
   ]
  },
  {
   "cell_type": "code",
   "execution_count": 4,
   "id": "af3763db-04d4-408c-a685-1feed8e6360b",
   "metadata": {},
   "outputs": [
    {
     "name": "stdin",
     "output_type": "stream",
     "text": [
      " ········\n"
     ]
    }
   ],
   "source": [
    "neo4j_password = getpass()"
   ]
  },
  {
   "cell_type": "code",
   "execution_count": 5,
   "id": "90d21499-49a4-4cfa-8eb5-a3a77d68805e",
   "metadata": {},
   "outputs": [],
   "source": [
    "neo4j_uri = \"neo4j+s://bc9f751a.databases.neo4j.io\"\n",
    "neo4j_user = \"neo4j\"\n",
    "gds = GraphDataScience(neo4j_uri, auth=(neo4j_user, neo4j_password))"
   ]
  },
  {
   "cell_type": "markdown",
   "id": "543f3922-501c-449a-8250-6eeee4a120fa",
   "metadata": {},
   "source": [
    "# Get document data"
   ]
  },
  {
   "cell_type": "code",
   "execution_count": 65,
   "id": "204d52ef-b0dd-4d39-b3f6-fe115f8aa277",
   "metadata": {},
   "outputs": [],
   "source": [
    "doc_info = gds.run_cypher(\n",
    "    \"\"\"MATCH (d:Document) \n",
    "       WHERE NOT EXISTS {(d)-[:HAS_TOPIC]->()}\n",
    "       AND d.text is not null\n",
    "       RETURN d.index AS index, d{.text} AS text\"\"\" )"
   ]
  },
  {
   "cell_type": "code",
   "execution_count": 7,
   "id": "f63233f7-d06f-48df-8ae8-9055f159201a",
   "metadata": {},
   "outputs": [],
   "source": [
    "config = RunnableConfig(max_concurrency=4)"
   ]
  },
  {
   "cell_type": "code",
   "execution_count": 24,
   "id": "898c03ab-e247-4099-874d-30a8e082e0c6",
   "metadata": {},
   "outputs": [],
   "source": [
    "chat = ChatOpenAI(temperature=0, model=\"gpt-4-turbo-preview\", openai_api_key=openai_api_key, request_timeout =5000)"
   ]
  },
  {
   "cell_type": "code",
   "execution_count": 27,
   "id": "3c680e31-a68a-45d1-b498-3f209c7712a0",
   "metadata": {},
   "outputs": [
    {
     "data": {
      "text/html": [
       "<div>\n",
       "<style scoped>\n",
       "    .dataframe tbody tr th:only-of-type {\n",
       "        vertical-align: middle;\n",
       "    }\n",
       "\n",
       "    .dataframe tbody tr th {\n",
       "        vertical-align: top;\n",
       "    }\n",
       "\n",
       "    .dataframe thead th {\n",
       "        text-align: right;\n",
       "    }\n",
       "</style>\n",
       "<table border=\"1\" class=\"dataframe\">\n",
       "  <thead>\n",
       "    <tr style=\"text-align: right;\">\n",
       "      <th></th>\n",
       "    </tr>\n",
       "  </thead>\n",
       "  <tbody>\n",
       "  </tbody>\n",
       "</table>\n",
       "</div>"
      ],
      "text/plain": [
       "Empty DataFrame\n",
       "Columns: []\n",
       "Index: []"
      ]
     },
     "execution_count": 27,
     "metadata": {},
     "output_type": "execute_result"
    }
   ],
   "source": [
    "gds.run_cypher(\"\"\"CREATE CONSTRAINT topic_node_key IF NOT EXISTS FOR (n:Topic) REQUIRE n.description IS NODE KEY\"\"\")"
   ]
  },
  {
   "cell_type": "code",
   "execution_count": 39,
   "id": "05686352-5577-45ff-9c88-29d7afc905a7",
   "metadata": {},
   "outputs": [
    {
     "data": {
      "text/html": [
       "<div>\n",
       "<style scoped>\n",
       "    .dataframe tbody tr th:only-of-type {\n",
       "        vertical-align: middle;\n",
       "    }\n",
       "\n",
       "    .dataframe tbody tr th {\n",
       "        vertical-align: top;\n",
       "    }\n",
       "\n",
       "    .dataframe thead th {\n",
       "        text-align: right;\n",
       "    }\n",
       "</style>\n",
       "<table border=\"1\" class=\"dataframe\">\n",
       "  <thead>\n",
       "    <tr style=\"text-align: right;\">\n",
       "      <th></th>\n",
       "      <th>index</th>\n",
       "      <th>text</th>\n",
       "    </tr>\n",
       "  </thead>\n",
       "  <tbody>\n",
       "    <tr>\n",
       "      <th>0</th>\n",
       "      <td>4</td>\n",
       "      <td>{'text': 'relationshipQuery no Cypher query to project relationships. The query result must contain source and target columns. Optionally, a type column can be specified to represent relationship type. Additional columns are interpreted as properties. configuration yes Additional parameters to configure the Legacy Cypher projection. readConcurrency Integer The number of concurrent threads used for creating the graph. validateRelationships Boolean true'}</td>\n",
       "    </tr>\n",
       "    <tr>\n",
       "      <th>1</th>\n",
       "      <td>5</td>\n",
       "      <td>{'text': 'validateRelationships Boolean true Whether to throw an error if the relationshipQuery returns relationships between nodes not returned by the nodeQuery. parameters Map {} A map of user-defined query parameters that are passed into the node and relationship queries. jobId String Generated internally An ID that can be provided to more easily track the projection’s progress. graphName String The name under which the graph is stored in the catalog. nodeQuery String'}</td>\n",
       "    </tr>\n",
       "    <tr>\n",
       "      <th>2</th>\n",
       "      <td>6</td>\n",
       "      <td>{'text': 'nodeQuery String The Cypher query used to project the nodes in the graph. nodeCount Integer The number of nodes stored in the projected graph. relationshipQuery String The Cypher query used to project the relationships in the graph. relationshipCount Integer The number of relationships stored in the projected graph. projectMillis Integer Milliseconds for projecting the graph. To get information about a stored graph, such as its schema, one can use gds.graph.list. 3. Examples'}</td>\n",
       "    </tr>\n",
       "    <tr>\n",
       "      <th>3</th>\n",
       "      <td>7</td>\n",
       "      <td>{'text': '3. Examples In order to demonstrate the GDS Graph Project capabilities we are going to create a small social network graph in Neo4j. The example graph looks like this: The following Cypher statement will create the example graph in the Neo4j database: 3.1. Simple graph'}</td>\n",
       "    </tr>\n",
       "    <tr>\n",
       "      <th>4</th>\n",
       "      <td>8</td>\n",
       "      <td>{'text': '3.1. Simple graph A simple graph is a graph with only one node label and relationship type, i.e., a monopartite graph. We are going to start with demonstrating how to load a simple graph by projecting only the Person node label and KNOWS relationship type. Project  \"persons\" \"MATCH (n:Person) RETURN id(n) AS id\" \"MATCH (n:Person)-[r:KNOWS]→(m:Person) RETURN id(n) AS source, id(m) AS target\" 3.2. Multi-graph A multi-graph is a graph with multiple node labels and relationship types.'}</td>\n",
       "    </tr>\n",
       "    <tr>\n",
       "      <th>...</th>\n",
       "      <td>...</td>\n",
       "      <td>...</td>\n",
       "    </tr>\n",
       "    <tr>\n",
       "      <th>15282</th>\n",
       "      <td>6877387f-e924-49a6-9855-e4670337ce4f</td>\n",
       "      <td>{'text': 'let's just say, Neo4jexample, we wanna explore characters from a particular planet. All right. And that's it. Not a single lineNeo4jcode was writtenNeo4jthis. We just hit Enter and out pops 136 nodes. So from here, you can kindNeo4jjust take a look around. What do we see? So right here, we have Tatooine. We have these various characters. We got Luke Skywalker, obviously. Anakin Skywalker, Darth Vader. And so, you know, you can zoom out again and just start exploring other areas. We got Naboo over here. R2D2. And you can see very clearly, just basedNeo4jthe color code that we assigned eachNeo4jthese categories. It's very responsive. You can drag these nodes around and really manipulate it however you want to. Make these relationship lines longerNeo4jshorter, just so you can clearly see what's happeningNeo4jthe scene. From here, go ead and zoom out. Let's go ead and clear the scene. Neo4jexample, soNeo4jMac, that's gonna be Command and Backspace, to clear the scene. Let's clear our search parameters here. Let's say we want to explore what our Characters IDENTIFIES_AS, so what species they identify as. All right. So we can go ead and do that. Not a single lineNeo4jcode written, again. And boom, here we go. We got a bunchNeo4jnodes and relationship. We have 119 nodes right there. Let's go ead and zoom inNeo4jthisNeo4j. So the biggest clusterNeo4jall is Hans, of course. And theseNeo4jallNeo4jthe various characters in the dataset that identifies as hans. So that's kinda cool. I mean, your mileage may vary, of course. And I did not go into anyNeo4jthe datasets to clean it up whatsoever. JustNeo4jthe purposeNeo4jthis demo, I just wanted to show you all how easy it is to upload datasets. And really drawing relationships between the various characters in the movies of \"Star Wars,\" in my case here. All right. And let's go ead and clear this scene here. Again, that's gonna be Command + Backspace to clear the scene very quickly. And let's go ead and explore the last relationship here that we built in our data model, where it is Species ORIGINATED_FROM Planet. All right, let's go ead and run that query. Again, with zero coding whatsoever. So we can see all theseNeo4j-to-one'}</td>\n",
       "    </tr>\n",
       "    <tr>\n",
       "      <th>15283</th>\n",
       "      <td>5c2ef084-82e4-4f9a-8fbd-afc87ba78c30</td>\n",
       "      <td>{'text': 'very quickly. And let's go ead and explore the last relationship here that we built in our data model, where it is Species ORIGINATED_FROM Planet. All right, let's go ead and run that query. Again, with zero coding whatsoever. So we can see all theseNeo4j-to-Neo4jrelationships here. We gotNeo4jhere. Again, did not do any cleanupNeo4jthe data whatsoever. But, as you can kindNeo4jsee from these example, you know, it kindNeo4jgives you a good ideaNeo4jhow everything's all kindNeo4jinterconnected there between Species and Planets. But ye, very cool stuff. All right. Well, that's itNeo4jthis video. If you found this video helpful at all, go ead and give it a like and a share. AndNeo4jmore information about Neo4j and Neo4j AuraDB, go ead and headNeo4jover to Neo4j.com to learn more. Until next time, May the fourth be with you. (gentle music)'}</td>\n",
       "    </tr>\n",
       "    <tr>\n",
       "      <th>15284</th>\n",
       "      <td>7acb9365-659e-4085-b957-ab007ce121cf</td>\n",
       "      <td>{'text': '- Hi there. I'm Elaine Rosenberg from Neo4j. In this video, I will show you how to import data from CSV files into your graph that is hosted in the Cloud with your AuraNeo4jTier account. Here, we have created a database named Movies. We open the Neo4j browserNeo4jthis database, providing the connection credentialsNeo4jNeo4jNeo4jthe user, and the password that was generatedNeo4jus when we created the database. The first step is to understand the data that you will load into the database. We have four files that we want to load into our database. Movies, people, actors, and directors. Let's take a look at this data. Here is the LOAD CSV statement we will useNeo4jour explorationNeo4jthe data. We will read the first five recordsNeo4jthe CSV file. Notice that this file has the header labels as the first rowNeo4jthe CSV file. This tells us that the headersNeo4jincluded in the file. The people.CSV file contains two colns. Name, which is the nameNeo4jthe person and Born, which is the year that the person was born. We can read the CSV file with headers, so we will be able to use the values in each coln. Here, we simply return each row again. We do not want to store the year that a person was born in our graph as a string. So we will convert it. And here we see that we can return the values in each row with the conversion. Next, let's examine the data in the movies.CSV file. Again, we want to transform the released value toNeo4jinteger. Let's take a look at the directors. The directors file simply maps director names to movie titles. We will be adding these directors as Person nodes and create the relationships between the Person nodes and the Movie nodes. And finally, let's look at the actors. This file is used to mapNeo4jactor to the roles they played when they acted in a particular movie. The roles value could have multiple values, ifNeo4jactor had multiple roles in the same movie. Neo4jexample, the actor, 'Hugo Weaving' plays many roles in some movies. This transformation can be done this way to turn a setNeo4jroles intoNeo4jarray that we will store in our graph. Now that we understand the data and how we may need to transform it when is loaded into the database, we next, must design the data modelNeo4jour graph. Here's the proposed data model. A person node can haveNeo4jacted'}</td>\n",
       "    </tr>\n",
       "    <tr>\n",
       "      <th>15285</th>\n",
       "      <td>96c133d8-1ff1-4eca-9ff6-90ff401ffb4d</td>\n",
       "      <td>{'text': 'to turn a setNeo4jroles intoNeo4jarray that we will store in our graph. Now that we understand the data and how we may need to transform it when is loaded into the database, we next, must design the data modelNeo4jour graph. Here's the proposed data model. A person node can haveNeo4jacted in and/Neo4jdirected relationship to a movie node. Now let's load our data. First, let's load our people.CSV file. Next, let's load our movies.CSV file. It will help to have uniqueness constraintsNeo4jindexesNeo4jthe Movie nodes and Person nodes. This will enable us to do a quick lookupNeo4jmovie titleNeo4jperson name, when weNeo4jcreating the relationships between the nodes. Here, we create these constraints. If the data that we had previously loaded, violated these constraints, the creationNeo4jthe constraints would have failed. Now that we have our Person and Movie nodes created, and we have created constraintsNeo4jthese nodes, weNeo4jready to create the relationships between them. First, let's create the directed relationships. To do this, we must create the Person nodeNeo4jdirector and then create the relationship. Notice that we use 'Merge' to create the person nodes. This, along with the constraint, will ensure that we do not create duplicate nodesNeo4jperson who isNeo4jactor and a director. We also use Merge to create the relationship. This is always a best practice. In this code, we read each row from the director's CSV file. Then we look up the Movie node from the row. Then we do a lookupNeo4jthe Person node from the row and create it, if it doesn't exist. Finally, we create the relationship between the two nodes. Let's confirm that this import worked. We know that Tom Hanks is a person in our database and he is also a director. Let's look him up. If we expand the visualizationNeo4jthis node, we do indeed see that Tom Hanks has the directed relationship to a movie. Next, let's create the 'acted in' relationships. The acted in relationship will have a roles property. In this code, we find the Person node from the row and the Movie node, and we create the relationship and set the roles propertyNeo4jthe relationship. Let's confirm someNeo4jwhat we loaded. And here we see that the nodes and relationships have been correctly created in the graph. Let's take a look again at the Tom Hanks node. Here we see that he acted in many'}</td>\n",
       "    </tr>\n",
       "    <tr>\n",
       "      <th>15286</th>\n",
       "      <td>f6eab2ef-2a1d-4ed9-8ddb-686b039948fc</td>\n",
       "      <td>{'text': 'Movie node, and we create the relationship and set the roles propertyNeo4jthe relationship. Let's confirm someNeo4jwhat we loaded. And here we see that the nodes and relationships have been correctly created in the graph. Let's take a look again at the Tom Hanks node. Here we see that he acted in many movies and directed a movie. This concludes our look at how to import the movie data from CSV files.'}</td>\n",
       "    </tr>\n",
       "  </tbody>\n",
       "</table>\n",
       "<p>15287 rows × 2 columns</p>\n",
       "</div>"
      ],
      "text/plain": [
       "                                      index  \\\n",
       "0                                         4   \n",
       "1                                         5   \n",
       "2                                         6   \n",
       "3                                         7   \n",
       "4                                         8   \n",
       "...                                     ...   \n",
       "15282  6877387f-e924-49a6-9855-e4670337ce4f   \n",
       "15283  5c2ef084-82e4-4f9a-8fbd-afc87ba78c30   \n",
       "15284  7acb9365-659e-4085-b957-ab007ce121cf   \n",
       "15285  96c133d8-1ff1-4eca-9ff6-90ff401ffb4d   \n",
       "15286  f6eab2ef-2a1d-4ed9-8ddb-686b039948fc   \n",
       "\n",
       "                                                                                                                                                                                                                                                                                                                                                                                                                                                                                                                                                                                                                                                                                                                                                                                                                                                                                                                                                                                                                                                                                                                                                                                                                                                                                                                                                                                                                                                                                                                                                                                                                                                                                                                                                                                                                                                                                                                                                                                                                                                                                                                                                                                                                                                                                                                                                                                                                                                                   text  \n",
       "0                                                                                                                                                                                                                                                                                                                                                                                                                                                                                                                                                                                                                                                                                                                                                                                                                                                                                                                                                                                                                                                                                                                                                                                                                                                                                                                                                                                                                                                                                                                                                                                                                                                                                                                                                                                                                                                                                                                                                                                             {'text': 'relationshipQuery no Cypher query to project relationships. The query result must contain source and target columns. Optionally, a type column can be specified to represent relationship type. Additional columns are interpreted as properties. configuration yes Additional parameters to configure the Legacy Cypher projection. readConcurrency Integer The number of concurrent threads used for creating the graph. validateRelationships Boolean true'}  \n",
       "1                                                                                                                                                                                                                                                                                                                                                                                                                                                                                                                                                                                                                                                                                                                                                                                                                                                                                                                                                                                                                                                                                                                                                                                                                                                                                                                                                                                                                                                                                                                                                                                                                                                                                                                                                                                                                                                                                                                                                                         {'text': 'validateRelationships Boolean true Whether to throw an error if the relationshipQuery returns relationships between nodes not returned by the nodeQuery. parameters Map {} A map of user-defined query parameters that are passed into the node and relationship queries. jobId String Generated internally An ID that can be provided to more easily track the projection’s progress. graphName String The name under which the graph is stored in the catalog. nodeQuery String'}  \n",
       "2                                                                                                                                                                                                                                                                                                                                                                                                                                                                                                                                                                                                                                                                                                                                                                                                                                                                                                                                                                                                                                                                                                                                                                                                                                                                                                                                                                                                                                                                                                                                                                                                                                                                                                                                                                                                                                                                                                                                                           {'text': 'nodeQuery String The Cypher query used to project the nodes in the graph. nodeCount Integer The number of nodes stored in the projected graph. relationshipQuery String The Cypher query used to project the relationships in the graph. relationshipCount Integer The number of relationships stored in the projected graph. projectMillis Integer Milliseconds for projecting the graph. To get information about a stored graph, such as its schema, one can use gds.graph.list. 3. Examples'}  \n",
       "3                                                                                                                                                                                                                                                                                                                                                                                                                                                                                                                                                                                                                                                                                                                                                                                                                                                                                                                                                                                                                                                                                                                                                                                                                                                                                                                                                                                                                                                                                                                                                                                                                                                                                                                                                                                                                                                                                                                                                                                                                                                                                                                                                                             {'text': '3. Examples In order to demonstrate the GDS Graph Project capabilities we are going to create a small social network graph in Neo4j. The example graph looks like this: The following Cypher statement will create the example graph in the Neo4j database: 3.1. Simple graph'}  \n",
       "4                                                                                                                                                                                                                                                                                                                                                                                                                                                                                                                                                                                                                                                                                                                                                                                                                                                                                                                                                                                                                                                                                                                                                                                                                                                                                                                                                                                                                                                                                                                                                                                                                                                                                                                                                                                                                                                                                                                                                     {'text': '3.1. Simple graph A simple graph is a graph with only one node label and relationship type, i.e., a monopartite graph. We are going to start with demonstrating how to load a simple graph by projecting only the Person node label and KNOWS relationship type. Project  \"persons\" \"MATCH (n:Person) RETURN id(n) AS id\" \"MATCH (n:Person)-[r:KNOWS]→(m:Person) RETURN id(n) AS source, id(m) AS target\" 3.2. Multi-graph A multi-graph is a graph with multiple node labels and relationship types.'}  \n",
       "...                                                                                                                                                                                                                                                                                                                                                                                                                                                                                                                                                                                                                                                                                                                                                                                                                                                                                                                                                                                                                                                                                                                                                                                                                                                                                                                                                                                                                                                                                                                                                                                                                                                                                                                                                                                                                                                                                                                                                                                                                                                                                                                                                                                                                                                                                                                                                                                                                                                                 ...  \n",
       "15282                                                                                                                                                                {'text': 'let's just say, Neo4jexample, we wanna explore characters from a particular planet. All right. And that's it. Not a single lineNeo4jcode was writtenNeo4jthis. We just hit Enter and out pops 136 nodes. So from here, you can kindNeo4jjust take a look around. What do we see? So right here, we have Tatooine. We have these various characters. We got Luke Skywalker, obviously. Anakin Skywalker, Darth Vader. And so, you know, you can zoom out again and just start exploring other areas. We got Naboo over here. R2D2. And you can see very clearly, just basedNeo4jthe color code that we assigned eachNeo4jthese categories. It's very responsive. You can drag these nodes around and really manipulate it however you want to. Make these relationship lines longerNeo4jshorter, just so you can clearly see what's happeningNeo4jthe scene. From here, go ead and zoom out. Let's go ead and clear the scene. Neo4jexample, soNeo4jMac, that's gonna be Command and Backspace, to clear the scene. Let's clear our search parameters here. Let's say we want to explore what our Characters IDENTIFIES_AS, so what species they identify as. All right. So we can go ead and do that. Not a single lineNeo4jcode written, again. And boom, here we go. We got a bunchNeo4jnodes and relationship. We have 119 nodes right there. Let's go ead and zoom inNeo4jthisNeo4j. So the biggest clusterNeo4jall is Hans, of course. And theseNeo4jallNeo4jthe various characters in the dataset that identifies as hans. So that's kinda cool. I mean, your mileage may vary, of course. And I did not go into anyNeo4jthe datasets to clean it up whatsoever. JustNeo4jthe purposeNeo4jthis demo, I just wanted to show you all how easy it is to upload datasets. And really drawing relationships between the various characters in the movies of \"Star Wars,\" in my case here. All right. And let's go ead and clear this scene here. Again, that's gonna be Command + Backspace to clear the scene very quickly. And let's go ead and explore the last relationship here that we built in our data model, where it is Species ORIGINATED_FROM Planet. All right, let's go ead and run that query. Again, with zero coding whatsoever. So we can see all theseNeo4j-to-one'}  \n",
       "15283                                                                                                                                                                                                                                                                                                                                                                                                                                                                                                                                                                                                                                                                                                                                                                                                                                                                                                                                                                                                                                                                                                                                                                                                                                                                                                                                                                                                                                                                                                                                                                       {'text': 'very quickly. And let's go ead and explore the last relationship here that we built in our data model, where it is Species ORIGINATED_FROM Planet. All right, let's go ead and run that query. Again, with zero coding whatsoever. So we can see all theseNeo4j-to-Neo4jrelationships here. We gotNeo4jhere. Again, did not do any cleanupNeo4jthe data whatsoever. But, as you can kindNeo4jsee from these example, you know, it kindNeo4jgives you a good ideaNeo4jhow everything's all kindNeo4jinterconnected there between Species and Planets. But ye, very cool stuff. All right. Well, that's itNeo4jthis video. If you found this video helpful at all, go ead and give it a like and a share. AndNeo4jmore information about Neo4j and Neo4j AuraDB, go ead and headNeo4jover to Neo4j.com to learn more. Until next time, May the fourth be with you. (gentle music)'}  \n",
       "15284                                               {'text': '- Hi there. I'm Elaine Rosenberg from Neo4j. In this video, I will show you how to import data from CSV files into your graph that is hosted in the Cloud with your AuraNeo4jTier account. Here, we have created a database named Movies. We open the Neo4j browserNeo4jthis database, providing the connection credentialsNeo4jNeo4jNeo4jthe user, and the password that was generatedNeo4jus when we created the database. The first step is to understand the data that you will load into the database. We have four files that we want to load into our database. Movies, people, actors, and directors. Let's take a look at this data. Here is the LOAD CSV statement we will useNeo4jour explorationNeo4jthe data. We will read the first five recordsNeo4jthe CSV file. Notice that this file has the header labels as the first rowNeo4jthe CSV file. This tells us that the headersNeo4jincluded in the file. The people.CSV file contains two colns. Name, which is the nameNeo4jthe person and Born, which is the year that the person was born. We can read the CSV file with headers, so we will be able to use the values in each coln. Here, we simply return each row again. We do not want to store the year that a person was born in our graph as a string. So we will convert it. And here we see that we can return the values in each row with the conversion. Next, let's examine the data in the movies.CSV file. Again, we want to transform the released value toNeo4jinteger. Let's take a look at the directors. The directors file simply maps director names to movie titles. We will be adding these directors as Person nodes and create the relationships between the Person nodes and the Movie nodes. And finally, let's look at the actors. This file is used to mapNeo4jactor to the roles they played when they acted in a particular movie. The roles value could have multiple values, ifNeo4jactor had multiple roles in the same movie. Neo4jexample, the actor, 'Hugo Weaving' plays many roles in some movies. This transformation can be done this way to turn a setNeo4jroles intoNeo4jarray that we will store in our graph. Now that we understand the data and how we may need to transform it when is loaded into the database, we next, must design the data modelNeo4jour graph. Here's the proposed data model. A person node can haveNeo4jacted'}  \n",
       "15285  {'text': 'to turn a setNeo4jroles intoNeo4jarray that we will store in our graph. Now that we understand the data and how we may need to transform it when is loaded into the database, we next, must design the data modelNeo4jour graph. Here's the proposed data model. A person node can haveNeo4jacted in and/Neo4jdirected relationship to a movie node. Now let's load our data. First, let's load our people.CSV file. Next, let's load our movies.CSV file. It will help to have uniqueness constraintsNeo4jindexesNeo4jthe Movie nodes and Person nodes. This will enable us to do a quick lookupNeo4jmovie titleNeo4jperson name, when weNeo4jcreating the relationships between the nodes. Here, we create these constraints. If the data that we had previously loaded, violated these constraints, the creationNeo4jthe constraints would have failed. Now that we have our Person and Movie nodes created, and we have created constraintsNeo4jthese nodes, weNeo4jready to create the relationships between them. First, let's create the directed relationships. To do this, we must create the Person nodeNeo4jdirector and then create the relationship. Notice that we use 'Merge' to create the person nodes. This, along with the constraint, will ensure that we do not create duplicate nodesNeo4jperson who isNeo4jactor and a director. We also use Merge to create the relationship. This is always a best practice. In this code, we read each row from the director's CSV file. Then we look up the Movie node from the row. Then we do a lookupNeo4jthe Person node from the row and create it, if it doesn't exist. Finally, we create the relationship between the two nodes. Let's confirm that this import worked. We know that Tom Hanks is a person in our database and he is also a director. Let's look him up. If we expand the visualizationNeo4jthis node, we do indeed see that Tom Hanks has the directed relationship to a movie. Next, let's create the 'acted in' relationships. The acted in relationship will have a roles property. In this code, we find the Person node from the row and the Movie node, and we create the relationship and set the roles propertyNeo4jthe relationship. Let's confirm someNeo4jwhat we loaded. And here we see that the nodes and relationships have been correctly created in the graph. Let's take a look again at the Tom Hanks node. Here we see that he acted in many'}  \n",
       "15286                                                                                                                                                                                                                                                                                                                                                                                                                                                                                                                                                                                                                                                                                                                                                                                                                                                                                                                                                                                                                                                                                                                                                                                                                                                                                                                                                                                                                                                                                                                                                                                                                                                                                                                                                                                                                                                                                                                                                                                                                                   {'text': 'Movie node, and we create the relationship and set the roles propertyNeo4jthe relationship. Let's confirm someNeo4jwhat we loaded. And here we see that the nodes and relationships have been correctly created in the graph. Let's take a look again at the Tom Hanks node. Here we see that he acted in many movies and directed a movie. This concludes our look at how to import the movie data from CSV files.'}  \n",
       "\n",
       "[15287 rows x 2 columns]"
      ]
     },
     "execution_count": 39,
     "metadata": {},
     "output_type": "execute_result"
    }
   ],
   "source": [
    "doc_info"
   ]
  },
  {
   "cell_type": "markdown",
   "id": "1daac084-b22c-4a4f-903a-d872d1d4d4a3",
   "metadata": {},
   "source": [
    "# Ask gen AI to find topics in documents"
   ]
  },
  {
   "cell_type": "code",
   "execution_count": 29,
   "id": "02c9471d-4971-4c90-84a3-d6f216a34310",
   "metadata": {},
   "outputs": [],
   "source": [
    "system_message = SystemMessage(\n",
    "    content=\"\"\"You are an expert about Neo4j software. \n",
    "    Summarize the text of this document into a list of up to fifteen short phrases that describe the topics in the text.\n",
    "    Try to make the phrases no longer than three or four words.\n",
    "    The topics should all relate to Neo4j software, Cypher syntax, database administration, graphs, or data science.\n",
    "    Do not return topics based on people's names, movies, sports, or other topics not directly related to answering technical questions about software.\n",
    "    If the document is defining Cypher syntax, extract the key function names, Cypher operators, and parameters as phrases.\n",
    "    If you find a phrase that is a single word used in the Cypher query language, append the words \"in Cypher\" to the phrase. \n",
    "    For example instead of returning the single word \"WITH\" return \"WITH in Cypher\" \n",
    "    You can provide fewer than fifteen phrases.\n",
    "    Return the phrases as a pipe separated list.\"\"\")\n",
    "\n",
    "final_prompt = ChatPromptTemplate.from_messages(\n",
    "    [system_message,\n",
    "     (\"human\", \"{text}\")])\n",
    "\n",
    "summary_chain = final_prompt | chat"
   ]
  },
  {
   "cell_type": "code",
   "execution_count": 53,
   "id": "91b48dc1-deca-4783-89e2-60f05a7e3658",
   "metadata": {},
   "outputs": [],
   "source": [
    "def get_topics(start_id, end_id):\n",
    "    doc_data = doc_info.iloc[start_id: end_id, :].copy()\n",
    "    try:\n",
    "        response = summary_chain.batch(doc_data['text'].to_list(), config=config)\n",
    "        doc_data.loc[:, 'topics'] = [message.content for message in response]\n",
    "        topic_df = doc_data['topics'].str.split('|', expand=True).stack()\n",
    "        topic_df = topic_df.reset_index(level=1, drop=True).to_frame('topic').join(doc_data.drop('topics', axis=1))\n",
    "        gds.run_cypher(\"\"\"\n",
    "            UNWIND $data as row\n",
    "            MATCH (d:Document {index:row['index']})\n",
    "            MERGE (t:Topic {description: trim(row['topic'])})\n",
    "            WITH d, t\n",
    "            MERGE (d)-[:HAS_TOPIC]->(t)\n",
    "            RETURN count(*) AS relCount\"\"\",\n",
    "                       {\"data\": topic_df[['topic', 'index']].to_dict(\"records\")})\n",
    "    except Exception as e:\n",
    "        print(e)\n",
    "        print(doc_data['text'])\n",
    "        print(doc_data['topics'])"
   ]
  },
  {
   "cell_type": "code",
   "execution_count": 66,
   "id": "f1bb29e3-dfd2-46b9-b35e-3257d5db397f",
   "metadata": {},
   "outputs": [
    {
     "data": {
      "text/plain": [
       "(2472, 2)"
      ]
     },
     "execution_count": 66,
     "metadata": {},
     "output_type": "execute_result"
    }
   ],
   "source": [
    "doc_info.shape"
   ]
  },
  {
   "cell_type": "code",
   "execution_count": 67,
   "id": "8623bd7d-ad2a-455d-95cd-bcd91374a2d8",
   "metadata": {},
   "outputs": [
    {
     "name": "stdout",
     "output_type": "stream",
     "text": [
      "Finished row 50\n",
      "Finished row 100\n",
      "Finished row 150\n",
      "Finished row 200\n",
      "Finished row 250\n",
      "Finished row 300\n",
      "Finished row 350\n",
      "Finished row 400\n",
      "Finished row 450\n",
      "Finished row 500\n",
      "Finished row 550\n",
      "Finished row 600\n",
      "Finished row 650\n",
      "Finished row 700\n",
      "Finished row 750\n",
      "Finished row 800\n",
      "Finished row 850\n",
      "Finished row 900\n",
      "Finished row 950\n",
      "Finished row 1000\n",
      "Finished row 1050\n",
      "Finished row 1100\n",
      "Finished row 1150\n",
      "Finished row 1200\n",
      "Finished row 1250\n",
      "Finished row 1300\n",
      "Finished row 1350\n",
      "Finished row 1400\n",
      "Finished row 1450\n",
      "Finished row 1500\n",
      "Finished row 1550\n",
      "Finished row 1600\n",
      "Finished row 1650\n",
      "Finished row 1700\n",
      "Finished row 1750\n",
      "Finished row 1800\n",
      "Finished row 1850\n",
      "Finished row 1900\n",
      "Finished row 1950\n",
      "Finished row 2000\n",
      "Finished row 2050\n",
      "Finished row 2100\n",
      "Finished row 2150\n",
      "Finished row 2200\n",
      "Finished row 2250\n",
      "Finished row 2300\n",
      "Finished row 2350\n",
      "Finished row 2400\n",
      "Finished row 2450\n"
     ]
    }
   ],
   "source": [
    "for i in range(0, int(doc_info.shape[0]/10) + 1):\n",
    "    get_topics(i*10,(i+1)*10)\n",
    "    time.sleep(3)\n",
    "    if (i+1)%5 == 0:\n",
    "        print(f\"Finished row {(i+1)*10}\")\n",
    "    "
   ]
  },
  {
   "cell_type": "code",
   "execution_count": null,
   "id": "92a11016-6557-4bf8-a3f0-4a38358de00a",
   "metadata": {},
   "outputs": [],
   "source": []
  }
 ],
 "metadata": {
  "kernelspec": {
   "display_name": "chatbot",
   "language": "python",
   "name": "chatbot"
  },
  "language_info": {
   "codemirror_mode": {
    "name": "ipython",
    "version": 3
   },
   "file_extension": ".py",
   "mimetype": "text/x-python",
   "name": "python",
   "nbconvert_exporter": "python",
   "pygments_lexer": "ipython3",
   "version": "3.11.7"
  }
 },
 "nbformat": 4,
 "nbformat_minor": 5
}
