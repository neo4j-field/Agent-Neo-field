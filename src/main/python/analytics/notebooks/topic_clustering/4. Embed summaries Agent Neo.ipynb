{
 "cells": [
  {
   "cell_type": "code",
   "execution_count": 2,
   "id": "cf5c5aad-6feb-4f61-b6ac-3bc5b4243f03",
   "metadata": {},
   "outputs": [],
   "source": [
    "from graphdatascience import GraphDataScience\n",
    "from getpass import getpass"
   ]
  },
  {
   "cell_type": "markdown",
   "id": "8d409ca5-b696-497d-aea6-ecd230fd3468",
   "metadata": {},
   "source": [
    "# Set up connections"
   ]
  },
  {
   "cell_type": "code",
   "execution_count": 3,
   "id": "f72b527e-8034-40c6-8065-11a243978f07",
   "metadata": {},
   "outputs": [
    {
     "name": "stdin",
     "output_type": "stream",
     "text": [
      " ········\n"
     ]
    }
   ],
   "source": [
    "vertex_ai_token = getpass()"
   ]
  },
  {
   "cell_type": "code",
   "execution_count": 4,
   "id": "d878d851-ad85-499a-8b71-adb7587d1285",
   "metadata": {},
   "outputs": [
    {
     "name": "stdin",
     "output_type": "stream",
     "text": [
      " ········\n"
     ]
    }
   ],
   "source": [
    "neo4j_password = getpass()"
   ]
  },
  {
   "cell_type": "code",
   "execution_count": 5,
   "id": "4881f49c-7577-4731-9103-fa1a5a78cc01",
   "metadata": {},
   "outputs": [],
   "source": [
    "neo4j_uri = \"neo4j+s://bc9f751a.databases.neo4j.io\"\n",
    "neo4j_user = \"neo4j\"\n",
    "gds = GraphDataScience(neo4j_uri, auth=(neo4j_user, neo4j_password))"
   ]
  },
  {
   "cell_type": "markdown",
   "id": "fe1a4af5-56a8-4524-bd89-703f550fcbb4",
   "metadata": {},
   "source": [
    "# Embed summaries using same model as documents"
   ]
  },
  {
   "cell_type": "code",
   "execution_count": 8,
   "id": "bf3120e2-62ba-40ba-a1d7-8f95d90941c3",
   "metadata": {},
   "outputs": [
    {
     "data": {
      "text/html": [
       "<div>\n",
       "<style scoped>\n",
       "    .dataframe tbody tr th:only-of-type {\n",
       "        vertical-align: middle;\n",
       "    }\n",
       "\n",
       "    .dataframe tbody tr th {\n",
       "        vertical-align: top;\n",
       "    }\n",
       "\n",
       "    .dataframe thead th {\n",
       "        text-align: right;\n",
       "    }\n",
       "</style>\n",
       "<table border=\"1\" class=\"dataframe\">\n",
       "  <thead>\n",
       "    <tr style=\"text-align: right;\">\n",
       "      <th></th>\n",
       "    </tr>\n",
       "  </thead>\n",
       "  <tbody>\n",
       "  </tbody>\n",
       "</table>\n",
       "</div>"
      ],
      "text/plain": [
       "Empty DataFrame\n",
       "Columns: []\n",
       "Index: []"
      ]
     },
     "execution_count": 8,
     "metadata": {},
     "output_type": "execute_result"
    }
   ],
   "source": [
    "gds.run_cypher(\"\"\"\n",
    "CREATE VECTOR INDEX topic_group_summary_embeddings IF NOT EXISTS \n",
    "                  FOR (g:TopicGroup)\n",
    "                  ON (g.summaryEmbedding)\n",
    "                  OPTIONS {indexConfig: \n",
    "                      {`vector.dimensions`: 768,\n",
    "                       `vector.similarity_function`: 'cosine'\n",
    "                       }}\n",
    "                       \"\"\")"
   ]
  },
  {
   "cell_type": "code",
   "execution_count": 11,
   "id": "9647f68a-1212-42f3-ab0f-0edd0b3aa535",
   "metadata": {},
   "outputs": [
    {
     "data": {
      "text/html": [
       "<div>\n",
       "<style scoped>\n",
       "    .dataframe tbody tr th:only-of-type {\n",
       "        vertical-align: middle;\n",
       "    }\n",
       "\n",
       "    .dataframe tbody tr th {\n",
       "        vertical-align: top;\n",
       "    }\n",
       "\n",
       "    .dataframe thead th {\n",
       "        text-align: right;\n",
       "    }\n",
       "</style>\n",
       "<table border=\"1\" class=\"dataframe\">\n",
       "  <thead>\n",
       "    <tr style=\"text-align: right;\">\n",
       "      <th></th>\n",
       "    </tr>\n",
       "  </thead>\n",
       "  <tbody>\n",
       "  </tbody>\n",
       "</table>\n",
       "</div>"
      ],
      "text/plain": [
       "Empty DataFrame\n",
       "Columns: []\n",
       "Index: []"
      ]
     },
     "execution_count": 11,
     "metadata": {},
     "output_type": "execute_result"
    }
   ],
   "source": [
    "gds.run_cypher(\"\"\"\n",
    "MATCH (g:TopicGroup)\n",
    "WITH collect(g) AS groupNodes, collect(g.summary) AS summaries\n",
    "CALL genai.vector.encodeBatch(summaries, \"VertexAI\", { token: $token, projectId: $project }) \n",
    "YIELD index, vector\n",
    "WITH groupNodes[index] AS g, vector\n",
    "CALL db.create.setNodeVectorProperty(g, 'summaryEmbedding', vector)\"\"\",\n",
    "              {\"token\": vertex_ai_token, \"project\": \"neo4j-ps-202001\"})\n"
   ]
  },
  {
   "cell_type": "code",
   "execution_count": null,
   "id": "e4810f5d-bb77-4be9-9db4-b02f3687907b",
   "metadata": {},
   "outputs": [],
   "source": []
  }
 ],
 "metadata": {
  "kernelspec": {
   "display_name": "chatbot",
   "language": "python",
   "name": "chatbot"
  },
  "language_info": {
   "codemirror_mode": {
    "name": "ipython",
    "version": 3
   },
   "file_extension": ".py",
   "mimetype": "text/x-python",
   "name": "python",
   "nbconvert_exporter": "python",
   "pygments_lexer": "ipython3",
   "version": "3.11.7"
  }
 },
 "nbformat": 4,
 "nbformat_minor": 5
}
