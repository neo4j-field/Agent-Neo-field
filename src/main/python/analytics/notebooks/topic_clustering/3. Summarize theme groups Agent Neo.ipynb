{
 "cells": [
  {
   "cell_type": "code",
   "execution_count": 77,
   "id": "6db61bae-9e89-46a9-a399-9e9560a5ee54",
   "metadata": {},
   "outputs": [],
   "source": [
    "from langchain.prompts.chat import (\n",
    "    ChatPromptTemplate,\n",
    "    HumanMessagePromptTemplate,\n",
    "    SystemMessagePromptTemplate,\n",
    ")\n",
    "from langchain.schema import HumanMessage, SystemMessage\n",
    "from langchain_openai import ChatOpenAI\n",
    "from langchain_openai import OpenAIEmbeddings\n",
    "from graphdatascience import GraphDataScience\n",
    "from getpass import getpass\n",
    "from langchain_core.runnables import RunnableConfig\n",
    "import pandas as pd\n",
    "import time"
   ]
  },
  {
   "cell_type": "markdown",
   "id": "a830983f-a9e9-4b50-9e4e-1c617a96a05e",
   "metadata": {},
   "source": [
    "# Set up connections"
   ]
  },
  {
   "cell_type": "code",
   "execution_count": 27,
   "id": "c09556f0-e034-43cc-814c-3602ec4a3657",
   "metadata": {},
   "outputs": [
    {
     "name": "stdin",
     "output_type": "stream",
     "text": [
      " ········\n"
     ]
    }
   ],
   "source": [
    "openai_api_key = getpass()"
   ]
  },
  {
   "cell_type": "code",
   "execution_count": 3,
   "id": "fe6e4864-2c4a-48fb-b14a-618bb913bfe4",
   "metadata": {},
   "outputs": [
    {
     "name": "stdin",
     "output_type": "stream",
     "text": [
      " ········\n"
     ]
    }
   ],
   "source": [
    "neo4j_password = getpass()"
   ]
  },
  {
   "cell_type": "code",
   "execution_count": 29,
   "id": "d31b1d39-5dac-4b3e-80b5-dac623f151dc",
   "metadata": {},
   "outputs": [],
   "source": [
    "neo4j_uri = \"neo4j+s://bc9f751a.databases.neo4j.io\"\n",
    "neo4j_user = \"neo4j\"\n",
    "gds = GraphDataScience(neo4j_uri, auth=(neo4j_user, neo4j_password))"
   ]
  },
  {
   "cell_type": "markdown",
   "id": "8ea3f36d-f1b7-4a2e-a2dc-cd4a7aec4f2b",
   "metadata": {},
   "source": [
    "# Get document info"
   ]
  },
  {
   "cell_type": "code",
   "execution_count": 79,
   "id": "5272cd56-4cce-4ac5-a13d-4f0a6afb4285",
   "metadata": {},
   "outputs": [],
   "source": [
    "document_info = gds.run_cypher(\"\"\"\n",
    "MATCH (g:TopicGroup)<-[:IN_GROUP]-()<-[:HAS_TOPIC]-(d)\n",
    "WHERE g.summary IS null\n",
    "WITH g, collect(distinct d{.text}) AS documentData\n",
    "RETURN g.id AS id, g.descriptions as descriptions, apoc.coll.randomItems(documentData, $resultLimit) AS documentData\"\"\",\n",
    "              {\"resultLimit\": 10})"
   ]
  },
  {
   "cell_type": "code",
   "execution_count": 76,
   "id": "f32334ae-c476-445c-bb29-6c43113c2166",
   "metadata": {},
   "outputs": [
    {
     "data": {
      "text/html": [
       "<div>\n",
       "<style scoped>\n",
       "    .dataframe tbody tr th:only-of-type {\n",
       "        vertical-align: middle;\n",
       "    }\n",
       "\n",
       "    .dataframe tbody tr th {\n",
       "        vertical-align: top;\n",
       "    }\n",
       "\n",
       "    .dataframe thead th {\n",
       "        text-align: right;\n",
       "    }\n",
       "</style>\n",
       "<table border=\"1\" class=\"dataframe\">\n",
       "  <thead>\n",
       "    <tr style=\"text-align: right;\">\n",
       "      <th></th>\n",
       "      <th>id</th>\n",
       "      <th>descriptions</th>\n",
       "      <th>documentData</th>\n",
       "    </tr>\n",
       "  </thead>\n",
       "  <tbody>\n",
       "    <tr>\n",
       "      <th>0</th>\n",
       "      <td>5515</td>\n",
       "      <td>[Capturing log events, Event log analysis, For...</td>\n",
       "      <td>[{'text': 'Check recent Events The kubectl des...</td>\n",
       "    </tr>\n",
       "    <tr>\n",
       "      <th>1</th>\n",
       "      <td>2864</td>\n",
       "      <td>[Cardinality in relationships, Cardinality of ...</td>\n",
       "      <td>[{'text': 'This example shows how to configure...</td>\n",
       "    </tr>\n",
       "    <tr>\n",
       "      <th>2</th>\n",
       "      <td>5672</td>\n",
       "      <td>[Cardinality issues, Cost-Effective Lazy Forwa...</td>\n",
       "      <td>[{'text': 'have, and also a pattern, which is,...</td>\n",
       "    </tr>\n",
       "    <tr>\n",
       "      <th>3</th>\n",
       "      <td>3284</td>\n",
       "      <td>[Cargo 2000 Case Study dataset, Cargo 2000 tra...</td>\n",
       "      <td>[{'text': 'Source Logistics Dataset To explore...</td>\n",
       "    </tr>\n",
       "    <tr>\n",
       "      <th>4</th>\n",
       "      <td>5918</td>\n",
       "      <td>[Cargo 2000 case study, Cargo 2000 system data...</td>\n",
       "      <td>[{'text': 'The below figure shows a model of t...</td>\n",
       "    </tr>\n",
       "    <tr>\n",
       "      <th>...</th>\n",
       "      <td>...</td>\n",
       "      <td>...</td>\n",
       "      <td>...</td>\n",
       "    </tr>\n",
       "    <tr>\n",
       "      <th>7424</th>\n",
       "      <td>9299</td>\n",
       "      <td>[Fashion recommendations dataset]</td>\n",
       "      <td>[{'text': 'retailer  they released a public da...</td>\n",
       "    </tr>\n",
       "    <tr>\n",
       "      <th>7425</th>\n",
       "      <td>9300</td>\n",
       "      <td>[Worker compensation data]</td>\n",
       "      <td>[{'text': 'so  I will start with a demo so thi...</td>\n",
       "    </tr>\n",
       "    <tr>\n",
       "      <th>7426</th>\n",
       "      <td>9301</td>\n",
       "      <td>[Dynamic prompting]</td>\n",
       "      <td>[{'text': 'that's another thing that you can d...</td>\n",
       "    </tr>\n",
       "    <tr>\n",
       "      <th>7427</th>\n",
       "      <td>9302</td>\n",
       "      <td>[Order details file]</td>\n",
       "      <td>[{'text': ''m going to select the fuller north...</td>\n",
       "    </tr>\n",
       "    <tr>\n",
       "      <th>7428</th>\n",
       "      <td>9303</td>\n",
       "      <td>[Zero coding queries]</td>\n",
       "      <td>[{'text': 'very quickly. And let's go ead and ...</td>\n",
       "    </tr>\n",
       "  </tbody>\n",
       "</table>\n",
       "<p>7429 rows × 3 columns</p>\n",
       "</div>"
      ],
      "text/plain": [
       "        id                                       descriptions  \\\n",
       "0     5515  [Capturing log events, Event log analysis, For...   \n",
       "1     2864  [Cardinality in relationships, Cardinality of ...   \n",
       "2     5672  [Cardinality issues, Cost-Effective Lazy Forwa...   \n",
       "3     3284  [Cargo 2000 Case Study dataset, Cargo 2000 tra...   \n",
       "4     5918  [Cargo 2000 case study, Cargo 2000 system data...   \n",
       "...    ...                                                ...   \n",
       "7424  9299                  [Fashion recommendations dataset]   \n",
       "7425  9300                         [Worker compensation data]   \n",
       "7426  9301                                [Dynamic prompting]   \n",
       "7427  9302                               [Order details file]   \n",
       "7428  9303                              [Zero coding queries]   \n",
       "\n",
       "                                           documentData  \n",
       "0     [{'text': 'Check recent Events The kubectl des...  \n",
       "1     [{'text': 'This example shows how to configure...  \n",
       "2     [{'text': 'have, and also a pattern, which is,...  \n",
       "3     [{'text': 'Source Logistics Dataset To explore...  \n",
       "4     [{'text': 'The below figure shows a model of t...  \n",
       "...                                                 ...  \n",
       "7424  [{'text': 'retailer  they released a public da...  \n",
       "7425  [{'text': 'so  I will start with a demo so thi...  \n",
       "7426  [{'text': 'that's another thing that you can d...  \n",
       "7427  [{'text': ''m going to select the fuller north...  \n",
       "7428  [{'text': 'very quickly. And let's go ead and ...  \n",
       "\n",
       "[7429 rows x 3 columns]"
      ]
     },
     "execution_count": 76,
     "metadata": {},
     "output_type": "execute_result"
    }
   ],
   "source": [
    "document_info"
   ]
  },
  {
   "cell_type": "markdown",
   "id": "851ac3e9-ca24-496f-864d-48a734a9bfdd",
   "metadata": {},
   "source": [
    "# Ask LLM to summarize topics in topic groups"
   ]
  },
  {
   "cell_type": "code",
   "execution_count": 58,
   "id": "b9686097-5a19-4158-adfc-8404eba78fa7",
   "metadata": {},
   "outputs": [],
   "source": [
    "chat = ChatOpenAI(temperature=0, model=\"gpt-3.5-turbo\", openai_api_key=openai_api_key)"
   ]
  },
  {
   "cell_type": "code",
   "execution_count": 59,
   "id": "1a9bd99c-e165-421b-b684-076026bf746b",
   "metadata": {},
   "outputs": [],
   "source": [
    "system_message = SystemMessage(\n",
    "    content=\"\"\"You are an expert on Neo4j software. \n",
    "You will be given a list of related topics and a list of example documents that contain those topics.\n",
    "Write two or three sentences that describe the common themes from the topics. \n",
    "Don't let your summary be longer than two or three sentences.\n",
    "Use the example document information to guide your description of the topics.\n",
    "\"\"\")\n",
    "final_prompt = ChatPromptTemplate.from_messages(\n",
    "    [system_message,\n",
    "     (\"human\", \"\"\"topics: {descriptions}\n",
    "     example documents: {documentData}\"\"\")])"
   ]
  },
  {
   "cell_type": "code",
   "execution_count": 60,
   "id": "e8214c52-1acd-4ad2-b302-f8821f316f83",
   "metadata": {},
   "outputs": [
    {
     "data": {
      "text/plain": [
       "id                                                           3083\n",
       "descriptions    [Arguments in Cypher Operator, Direction \"out\"...\n",
       "documentData    [{'text': 'Bitwise Operations Functions for bi...\n",
       "Name: 0, dtype: object"
      ]
     },
     "execution_count": 60,
     "metadata": {},
     "output_type": "execute_result"
    }
   ],
   "source": [
    "document_info.iloc[0]"
   ]
  },
  {
   "cell_type": "code",
   "execution_count": 61,
   "id": "7965524f-eb1c-4bfb-817c-34619a24b5a5",
   "metadata": {},
   "outputs": [
    {
     "data": {
      "text/plain": [
       "ChatPromptValue(messages=[SystemMessage(content=\"You are an expert on Neo4j software. \\nYou will be given a list of related topics and a list of example documents that contain those topics.\\nWrite two or three sentences that describe the common themes from the topics. \\nDon't let your summary be longer than two or three sentences.\\nUse the example document information to guide your description of the topics.\\n\"), HumanMessage(content='topics: [\\'Arguments in Cypher Operator\\', \\'Direction \"out\" in Cypher\\', \\'LEFT SHIFT in Cypher\\', \\'OUT direction in Cypher\\', \\'OVERLAP in Cypher\\', \\'UP mode in Cypher\\', \\'USE in Cypher\\', \\'USER keyword in Cypher\\', \\'WHEN expression in Cypher\\', \\'methodName in Cypher\\', \\'timeout:10 in Cypher\\']\\n     example documents: [{\\'text\\': \\'Bitwise Operations Functions for bitwise operations apoc.bitwise.op   apoc.bitwise.op(a Integer, operator String, b Integer) - returns the result of the bitwise operation. Function Examples a & b AND apoc.bitwise.op(60,\"&\",13) 12 a | b OR apoc.bitwise.op(60,\"|\",13) 61 a ^ b XOR apoc.bitwise.op(60,\"&\",13) 49 ~a NOT apoc.bitwise.op(60,\"&\",0) 61 a << b LEFT SHIFT apoc.bitwise.op(60,\"<<\",2) 240 a >> b RIGHT SHIFT apoc.bitwise.op(60,\">>\",2) 15 a >>> b UNSIGNED RIGHT SHIFT\\'}, {\\'text\\': \\'Example 21. NodeUniqueIndexSeek Query Query Plan Multi Node Index Seek The MultiNodeIndexSeek operator finds nodes using multiple index seeks. It supports using multiple distinct indexes for different nodes in the query. The node variables and the indexes used are shown in the arguments of the operator.\\'}, {\\'text\\': \"We do not have any large supernodes, i.e. nodes with very high numbers of relationships. What qualifies as a supernode varies greatly by use case. For this, I would be concerned about users with tens of thousands of clicks. all_clicks_df = degree_counts(\\'User\\', \\'CLICKED|HISTORICALLY_CLICKED\\', \\'OUT\\') recent_clicks_df = degree_counts(\\'User\\', \\'CLICKED\\', \\'OUT\\') f, axs = plt.subplots(1,2,figsize=(16,5))\"}, {\\'text\\': \\'Modes: UP Round away from zero. DOWN Round towards zero. CEILING Round towards positive infinity. FLOOR Round towards negative infinity. HALF_UP Round towards closest value of given precision, with ties always being rounded away from zero. HALF_DOWN Round towards closest value of given precision, with ties always being rounded towards zero. HALF_EVEN Round towards closest value of given precision, with ties always being rounded to the even neighbor. Considerations:\\'}, {\\'text\\': \\'Create a local alias. CREATE [OR REPLACE] ALIAS [compositeDatabaseName.]aliasName [IF NOT EXISTS] FOR DATABASE targetName AT \\\\\\'url\\\\\\' USER username PASSWORD \\\\\\'password\\\\\\' [DRIVER \"{\" setting: value[, ...] \"}\"] [PROPERTIES \"{\" key: value[, ...] \"}\"] Create a remote database alias.\\'}, {\\'text\\': \"Procedure apoc.cypher.runMany  apoc.cypher.runMany(\\'cypher;\\\\\\\\nstatements;\\',{params},[{statistics:true,timeout:10}]) - runs each semicolon separated statement and returns summary Procedure apoc.cypher.runFirstColumnMany  apoc.cypher.runFirstColumnMany(statement, params) - executes statement with given parameters, returns first column only collected into a list, params are available as identifiers Function\"}, {\\'text\\': \\'CALL { …\\\\u200b } IN TRANSACTIONS Evaluates a subquery in separate transactions. Typically used when modifying or importing large amounts of data. Set operations UNION Combines the result of multiple queries into a single result set. Duplicates are removed. UNION ALL Combines the result of multiple queries into a single result set. Duplicates are retained. Multiple graphs USE Determines which graph a query, or query part, is executed against. Fabric Importing data LOAD CSV\\'}, {\\'text\\': \\'UNION ALL Set operations Combines the result of multiple queries. Duplicates are retained. UNWIND …\\\\u200b [AS] Projecting Expands a list into a sequence of rows. USE Multiple graphs Determines which graph a query, or query part, is executed against. USING INDEX variable:Label(property) Hint Index hints are used to specify which index, if any, the planner should use as a starting point. USING INDEX SEEK variable:Label(property) Hint\\'}, {\\'text\\': \\'The following will train a model using a pipeline: {batchSize=100, classWeights=[0.55, 0.45], focusWeight=0.0904839039446324, hiddenLayerSizes=[4, 2], learningRate=0.001, maxEpochs=100, methodName=MultilayerPerceptron, minEpochs=1, patience=2, penalty=0.5, tolerance=0.001} 0.858465608465608 0.82 0.677777777777778 [0.5555555555555555, 0.4444444444444444, 0.4305555555555555, 0.875]\\'}, {\\'text\\': \\'Retrieve data with a single Cypher query Query a single database When connected to a Composite database you can retrieve data from a single database by using the Cypher clause USE and the name of an alias: Query across multiple shards Use the Composite database to query both shards and get customers whose name starts with A: Or, using a more common Composite database idiom: Query across federation and shards\\'}]')])"
      ]
     },
     "execution_count": 61,
     "metadata": {},
     "output_type": "execute_result"
    }
   ],
   "source": [
    "final_prompt.invoke({\"descriptions\": document_info.loc[0,'descriptions'], \"documentData\": document_info.loc[0,'documentData']})"
   ]
  },
  {
   "cell_type": "code",
   "execution_count": 62,
   "id": "bc1a62e1-0433-45fc-b394-46d790b817d5",
   "metadata": {},
   "outputs": [],
   "source": [
    "chain = final_prompt | chat"
   ]
  },
  {
   "cell_type": "code",
   "execution_count": 69,
   "id": "8167f4f4-fefd-4b98-9322-f98e15061aa5",
   "metadata": {},
   "outputs": [],
   "source": [
    "response = chain.invoke({\"descriptions\": document_info.loc[0,'descriptions'], \"documentData\": document_info.loc[0,'documentData']})"
   ]
  },
  {
   "cell_type": "code",
   "execution_count": 70,
   "id": "eb727997-ef90-4570-b25f-5cb9b6e56b35",
   "metadata": {},
   "outputs": [
    {
     "data": {
      "text/plain": [
       "'The common themes among the provided topics include various Cypher operators such as LEFT SHIFT, OVERLAP, and USE, as well as directions like \"out\" and \"UP mode\" in Cypher queries. These topics also cover specific keywords and expressions like \"USER keyword\" and \"WHEN expression\" in Cypher, along with practical examples like setting a timeout in a Cypher query.'"
      ]
     },
     "execution_count": 70,
     "metadata": {},
     "output_type": "execute_result"
    }
   ],
   "source": [
    "response.content"
   ]
  },
  {
   "cell_type": "code",
   "execution_count": 71,
   "id": "eb31a1d7-4474-49a3-bf4f-fbfe4b12c32d",
   "metadata": {},
   "outputs": [],
   "source": [
    "config = RunnableConfig(max_concurrency=4)"
   ]
  },
  {
   "cell_type": "code",
   "execution_count": 72,
   "id": "79dcdd8e-3cf3-4d57-938d-1a3a4db6b3a8",
   "metadata": {},
   "outputs": [],
   "source": [
    "def get_topic_group_descriptions(start_id, end_id):\n",
    "    doc_data = document_info.iloc[start_id: end_id, :].copy()\n",
    "    response = chain.batch(doc_data.loc[:, ['descriptions', 'documentData']].to_dict(\"records\"), config=config)\n",
    "    doc_data.loc[:, 'summary'] = [message.content for message in response] \n",
    "    gds.run_cypher(\"\"\"\n",
    "        UNWIND $data as row\n",
    "        MATCH (g:TopicGroup {id:row['id']})\n",
    "        SET g.summary = row['summary']\n",
    "        \"\"\", \n",
    "                   {\"data\": doc_data.loc[:, ['id', 'summary']].to_dict(\"records\")})"
   ]
  },
  {
   "cell_type": "code",
   "execution_count": 80,
   "id": "8a5701e8-2d39-47c5-a41f-c1f4d5e1c510",
   "metadata": {},
   "outputs": [
    {
     "data": {
      "text/plain": [
       "(7329, 3)"
      ]
     },
     "execution_count": 80,
     "metadata": {},
     "output_type": "execute_result"
    }
   ],
   "source": [
    "document_info.shape"
   ]
  },
  {
   "cell_type": "code",
   "execution_count": 81,
   "id": "d439794d-9128-4eda-ac84-296e57a6227d",
   "metadata": {},
   "outputs": [
    {
     "name": "stdout",
     "output_type": "stream",
     "text": [
      "Finished row 100\n",
      "Finished row 200\n",
      "Finished row 300\n",
      "Finished row 400\n",
      "Finished row 500\n",
      "Finished row 600\n",
      "Finished row 700\n",
      "Finished row 800\n",
      "Finished row 900\n",
      "Finished row 1000\n",
      "Finished row 1100\n",
      "Finished row 1200\n",
      "Finished row 1300\n",
      "Finished row 1400\n",
      "Finished row 1500\n",
      "Finished row 1600\n",
      "Finished row 1700\n",
      "Finished row 1800\n",
      "Finished row 1900\n",
      "Finished row 2000\n",
      "Finished row 2100\n",
      "Finished row 2200\n",
      "Finished row 2300\n",
      "Finished row 2400\n",
      "Finished row 2500\n",
      "Finished row 2600\n",
      "Finished row 2700\n",
      "Finished row 2800\n",
      "Finished row 2900\n",
      "Finished row 3000\n",
      "Finished row 3100\n",
      "Finished row 3200\n",
      "Finished row 3300\n",
      "Finished row 3400\n",
      "Finished row 3500\n",
      "Finished row 3600\n",
      "Finished row 3700\n",
      "Finished row 3800\n",
      "Finished row 3900\n",
      "Finished row 4000\n",
      "Finished row 4100\n",
      "Finished row 4200\n",
      "Finished row 4300\n",
      "Finished row 4400\n",
      "Finished row 4500\n",
      "Finished row 4600\n",
      "Finished row 4700\n",
      "Finished row 4800\n",
      "Finished row 4900\n",
      "Finished row 5000\n",
      "Finished row 5100\n",
      "Finished row 5200\n",
      "Finished row 5300\n",
      "Finished row 5400\n",
      "Finished row 5500\n",
      "Finished row 5600\n",
      "Finished row 5700\n",
      "Finished row 5800\n",
      "Finished row 5900\n",
      "Finished row 6000\n",
      "Finished row 6100\n",
      "Finished row 6200\n",
      "Finished row 6300\n",
      "Finished row 6400\n",
      "Finished row 6500\n",
      "Finished row 6600\n",
      "Finished row 6700\n",
      "Finished row 6800\n",
      "Finished row 6900\n",
      "Finished row 7000\n",
      "Finished row 7100\n",
      "Finished row 7200\n",
      "Finished row 7300\n",
      "Finished row 7400\n"
     ]
    }
   ],
   "source": [
    "for i in range(0, int(document_info.shape[0]/100) + 1):\n",
    "    get_topic_group_descriptions(i*100,(i+1)*100)\n",
    "    print(f\"Finished row {(i+1)*100}\")\n",
    "    time.sleep(5)"
   ]
  },
  {
   "cell_type": "markdown",
   "id": "1aa24fd3-4c95-4f5b-9152-70bf9b406969",
   "metadata": {},
   "source": [
    "# Examine summaries"
   ]
  },
  {
   "cell_type": "code",
   "execution_count": null,
   "id": "bd7e0702-a070-4c67-8350-66a9b77b889e",
   "metadata": {},
   "outputs": [],
   "source": [
    "summary_df = gds.run_cypher(\"\"\"\n",
    "MATCH (g:TopicGroup)\n",
    "RETURN g.descriptions AS descriptions, g.summary AS summary\n",
    "ORDER BY g.descriptions\"\"\")"
   ]
  },
  {
   "cell_type": "code",
   "execution_count": null,
   "id": "2a130e87-76ca-4599-8c25-8b5b33cfb5d5",
   "metadata": {},
   "outputs": [],
   "source": [
    "pd.set_option('display.max_colwidth', None)"
   ]
  },
  {
   "cell_type": "code",
   "execution_count": null,
   "id": "2581c7ab-7169-4efb-a6b4-b3ef0a219243",
   "metadata": {},
   "outputs": [],
   "source": [
    "summary_df.head(10)"
   ]
  },
  {
   "cell_type": "code",
   "execution_count": null,
   "id": "4c1e6bf4-206a-4570-bc20-814e792cbf36",
   "metadata": {},
   "outputs": [],
   "source": []
  }
 ],
 "metadata": {
  "kernelspec": {
   "display_name": "chatbot",
   "language": "python",
   "name": "chatbot"
  },
  "language_info": {
   "codemirror_mode": {
    "name": "ipython",
    "version": 3
   },
   "file_extension": ".py",
   "mimetype": "text/x-python",
   "name": "python",
   "nbconvert_exporter": "python",
   "pygments_lexer": "ipython3",
   "version": "3.11.7"
  }
 },
 "nbformat": 4,
 "nbformat_minor": 5
}
