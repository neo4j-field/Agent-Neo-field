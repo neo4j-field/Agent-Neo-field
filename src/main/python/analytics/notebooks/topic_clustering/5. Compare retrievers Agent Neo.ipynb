{
 "cells": [
  {
   "cell_type": "code",
   "execution_count": 18,
   "id": "802bc414-f911-4bad-9431-e2e651aeb5c8",
   "metadata": {},
   "outputs": [
    {
     "name": "stderr",
     "output_type": "stream",
     "text": [
      "/Users/nathansmith/anaconda3/envs/chatbot/lib/python3.11/site-packages/tqdm/auto.py:21: TqdmWarning: IProgress not found. Please update jupyter and ipywidgets. See https://ipywidgets.readthedocs.io/en/stable/user_install.html\n",
      "  from .autonotebook import tqdm as notebook_tqdm\n"
     ]
    }
   ],
   "source": [
    "from langchain_community.vectorstores.neo4j_vector import Neo4jVector\n",
    "from langchain.chains.combine_documents import create_stuff_documents_chain\n",
    "from langchain.chains import create_retrieval_chain\n",
    "from getpass import getpass\n",
    "from langchain.prompts import ChatPromptTemplate, MessagesPlaceholder, HumanMessagePromptTemplate, PromptTemplate\n",
    "from langchain import hub\n",
    "from langchain_openai import ChatOpenAI\n",
    "from graphdatascience import GraphDataScience"
   ]
  },
  {
   "cell_type": "code",
   "execution_count": 11,
   "id": "09ac5a1c-99fd-4656-9861-0d6b86a91186",
   "metadata": {},
   "outputs": [],
   "source": [
    "from langchain_google_vertexai import VertexAIEmbeddings\n",
    "from google.auth.credentials import Credentials"
   ]
  },
  {
   "cell_type": "code",
   "execution_count": 3,
   "id": "40155249-2f11-4d97-80b4-6cc6e7e30a1c",
   "metadata": {},
   "outputs": [
    {
     "name": "stdin",
     "output_type": "stream",
     "text": [
      " ········\n"
     ]
    }
   ],
   "source": [
    "openai_api_key = getpass()"
   ]
  },
  {
   "cell_type": "code",
   "execution_count": 21,
   "id": "aa350128-8eb6-4b9f-a059-c1d6abfb2fd6",
   "metadata": {},
   "outputs": [
    {
     "name": "stdin",
     "output_type": "stream",
     "text": [
      " ········\n"
     ]
    }
   ],
   "source": [
    "neo4j_password = getpass()"
   ]
  },
  {
   "cell_type": "code",
   "execution_count": 28,
   "id": "36b2e998-a17b-4133-a028-d3946d834ed1",
   "metadata": {},
   "outputs": [
    {
     "name": "stdin",
     "output_type": "stream",
     "text": [
      " ········\n"
     ]
    }
   ],
   "source": [
    "gcloud_token = getpass()"
   ]
  },
  {
   "cell_type": "code",
   "execution_count": 22,
   "id": "13cdc1e9-316c-4d3b-bc8b-a7066ffed29a",
   "metadata": {},
   "outputs": [],
   "source": [
    "neo4j_uri = \"neo4j+s://bc9f751a.databases.neo4j.io\"\n",
    "neo4j_user = \"neo4j\"\n",
    "gds = GraphDataScience(neo4j_uri, auth=(neo4j_user, neo4j_password))"
   ]
  },
  {
   "cell_type": "code",
   "execution_count": 7,
   "id": "3e9c6436-b0e8-44d4-89cd-df1395a61878",
   "metadata": {},
   "outputs": [
    {
     "name": "stdout",
     "output_type": "stream",
     "text": [
      "Your browser has been opened to visit:\n",
      "\n",
      "    https://accounts.google.com/o/oauth2/auth?response_type=code&client_id=32555940559.apps.googleusercontent.com&redirect_uri=http%3A%2F%2Flocalhost%3A8085%2F&scope=openid+https%3A%2F%2Fwww.googleapis.com%2Fauth%2Fuserinfo.email+https%3A%2F%2Fwww.googleapis.com%2Fauth%2Fcloud-platform+https%3A%2F%2Fwww.googleapis.com%2Fauth%2Fappengine.admin+https%3A%2F%2Fwww.googleapis.com%2Fauth%2Fsqlservice.login+https%3A%2F%2Fwww.googleapis.com%2Fauth%2Fcompute+https%3A%2F%2Fwww.googleapis.com%2Fauth%2Faccounts.reauth&state=9zYfYLCyviejwZXSImJJIMgUUhkEEt&access_type=offline&code_challenge=J1-GJ1BHaGErnA0mEc2XWKy72HCtDr1Am2eZQp6If1Q&code_challenge_method=S256\n",
      "\n",
      "\u001b[1;33mWARNING:\u001b[0m Could not store access token in cache: database is locked\n",
      "\n",
      "You are now logged in as [nathan.smith@neo4j.com].\n",
      "Your current project is [neo4j-ps-202001].  You can change this setting by running:\n",
      "  $ gcloud config set project PROJECT_ID\n"
     ]
    }
   ],
   "source": [
    "!export PATH=\"/Users/nathansmith/google-cloud-sdk/bin:/Users/nathansmith/google-cloud-sdk/bin:/Users/nathansmith/anaconda3/envs/chatbot/bin:/Users/nathansmith/anaconda3/condabin:/usr/local/bin:/System/Cryptexes/App/usr/bin:/usr/bin:/bin:/usr/sbin:/sbin:/var/run/com.apple.security.cryptexd/codex.system/bootstrap/usr/local/bin:/var/run/com.apple.security.cryptexd/codex.system/bootstrap/usr/bin:/var/run/com.apple.security.cryptexd/codex.system/bootstrap/usr/appleinternal/bin:/Library/TeX/texbin\"; gcloud auth login"
   ]
  },
  {
   "cell_type": "code",
   "execution_count": 40,
   "id": "16ed2e7a-c500-4407-a12d-f274223132d2",
   "metadata": {},
   "outputs": [],
   "source": [
    "!cd /Users/nathansmith/google-cloud-sdk/bin"
   ]
  },
  {
   "cell_type": "code",
   "execution_count": 8,
   "id": "3cb00afd-307d-41da-bc2e-d870be4dede2",
   "metadata": {},
   "outputs": [
    {
     "name": "stdout",
     "output_type": "stream",
     "text": [
      "/Users/nathansmith/anaconda3/bin:/Users/nathansmith/anaconda3/condabin:/usr/bin:/bin:/usr/sbin:/sbin\n"
     ]
    }
   ],
   "source": [
    "!echo $PATH"
   ]
  },
  {
   "cell_type": "code",
   "execution_count": 41,
   "id": "ebebf6ad-af26-4787-8da6-1d614b21b44b",
   "metadata": {},
   "outputs": [
    {
     "name": "stdout",
     "output_type": "stream",
     "text": [
      "zsh:1: command not found: gcloud\n"
     ]
    }
   ],
   "source": [
    "!gcloud auth login"
   ]
  },
  {
   "cell_type": "code",
   "execution_count": 42,
   "id": "534a212f-230f-439e-b46b-dd528a1a7384",
   "metadata": {},
   "outputs": [
    {
     "name": "stdout",
     "output_type": "stream",
     "text": [
      "/Users/nathansmith/Documents/blogs/RAG/Agent Neo\n"
     ]
    }
   ],
   "source": [
    "!pwd"
   ]
  },
  {
   "cell_type": "code",
   "execution_count": null,
   "id": "d757cb28-4612-47f5-9f61-350610a0dc15",
   "metadata": {},
   "outputs": [],
   "source": [
    "summary_query = \"\"\"\n",
    "MATCH (node)<-[:IN_GROUP]-()<-[:HAS_TOPIC]-(d)\n",
    "WITH d, max(score) AS score \n",
    "RETURN d.overview AS text, score, d{.title, .tagline} AS metadata\n",
    "\"\"\"\n",
    "\n",
    "summary_vectorstore = Neo4jVector.from_existing_index(\n",
    "    VertexAIEmbeddings(),\n",
    "    index_name=\"theme_group_summary_vectors\",\n",
    "    retrieval_query=summary_query,\n",
    "    url=neo4j_uri,\n",
    "    username=neo4j_user,\n",
    "    password=neo4j_password\n",
    ")"
   ]
  },
  {
   "cell_type": "code",
   "execution_count": 32,
   "id": "be351c08-8d97-46cd-9673-20d0ed697555",
   "metadata": {},
   "outputs": [],
   "source": [
    "def query_topic_groups(query):\n",
    "    result = gds.run_cypher(\n",
    "    \"\"\" \n",
    "    WITH genai.vector.encode($query, \"VertexAI\", { token: $token, projectId: $project }) AS queryVector\n",
    "    CALL db.index.vector.queryNodes(\"topic_group_summary_embeddings\", 5, queryVector) YIELD node, score\n",
    "    MATCH (node)<-[:IN_GROUP]-()<-[:HAS_TOPIC]-(d)\n",
    "    WITH d, max(score) AS score \n",
    "    RETURN d.text AS text, score, d{.url} AS metadata\"\"\",\n",
    "        {\"query\":query, \"token\": gcloud_token, \"project\": \"neo4j-ps-202001\"})\n",
    "    return result"
   ]
  },
  {
   "cell_type": "code",
   "execution_count": 51,
   "id": "9016885f-ed4d-4ac9-8841-ae5b1c71600c",
   "metadata": {},
   "outputs": [],
   "source": [
    "topic_results = query_topic_groups(\"How does the Cypher MERGE statement work?\")"
   ]
  },
  {
   "cell_type": "code",
   "execution_count": 52,
   "id": "046d9239-48d5-47af-a8eb-27d297d7465a",
   "metadata": {},
   "outputs": [
    {
     "name": "stdout",
     "output_type": "stream",
     "text": [
      "Transaction A Transaction B The following error message is thrown: The Cypher clause MERGE takes locks out of order to ensure the uniqueness of the data, and this may prevent Neo4j’s internal sorting operations from ordering transactions in a way that avoids deadlocks. When possible, you are, therefore, encouraged to use the Cypher clause CREATE instead, which does not take locks out of order. Deadlock handling in code|apoc.merge.node Procedure apoc.merge.node(labels [String], identProps Map<String, Any>, props Map<String, Any>, onMatchProps Map<String, Any>) - merges the given node(s) with the given dynamic labels. Signature Input parameters labels LIST? OF STRING? null identProps MAP? null props MAP? {} onMatchProps MAP? {} Output parameters node NODE? Usage Examples This procedure provides a more flexible way of merging nodes than Cypher’s MERGE clause.|15 20000 export-cypher-format-create.cypher The creation of all graph entities uses the Cypher CREATE clause. If those entities may already exist in the destination database, we may choose to use another format. Using cypherFormat: \"updateAll\" means that the MERGE clause will be used instead of CREATE when creating entities. The following exports the  \"export-cypher-format-updateAll.cypher\" \"data: nodes(5), rels(4)\" \"cypher\" 15 20000 export-cypher-format-updateAll.cypher|Merge using property uniqueness constraints fails when finding conflicting matches: Query While there is a matching unique Person node with the name Oliver Stone, there is also another unique Person node with the role of Gordon Gekko and MERGE fails to match. Error message Using relationship property uniqueness constraints with MERGE|20000 export-cypher-format-addStructure.cypher In this example we’re using the MERGE clause to create a node if it doesn’t already exist, and are only creating properties if the node doesn’t already exist. In this example, relationships don’t exist in the destination database and need to be created. If those relationships do exist but have properties that need to be updated, we can use cypherFormat: \"updateStructure\" to create our import script. The following exports the|apoc.merge.node.eager Procedure apoc.merge.node.eager(labels [String], identProps Map<String, Any>, props Map<String, Any>, onMatchProps Map<String, Any>) - merges the given node(s) with the given dynamic labels eagerly. Signature Input parameters labels LIST? OF STRING? null identProps MAP? null props MAP? {} onMatchProps MAP? {} Output parameters node NODE? Usage Examples This procedure provides a more flexible way of merging nodes than Cypher’s MERGE clause.|Query Query Plan Node Unique Index Seek The NodeUniqueIndexSeek operator finds nodes using an index seek within a unique index. The node variable and the index used are shown in the arguments of the operator. If the index is not unique, the operator is instead called NodeIndexSeek. If the index seek is used to solve a MERGE clause, it will also be marked with (Locking). This makes it clear that any nodes returned from the index will be locked in order to prevent concurrent conflicting updates.|The last part of a MERGE clause is the ON CREATE and/or ON MATCH operators. These allow a query to express additional changes to the properties of a node or relationship, depending on whether the element was matched (MATCH) in the database or if it was created (CREATE). Example graph The following graph is used for the examples below: To recreate the graph, run the following query in an empty Neo4j database: Merge nodes Merge single node with a label Merge a node with a specific label: Query|rel RELATIONSHIP? Usage Examples The examples in this section are based on the following graph: This procedure provides a more flexible way of merging relationships than Cypher’s MERGE clause. The example below shows equivalent ways of merging an ACTED_IN relationship between the Tom Hanks and You’ve Got Mail nodes: apoc.merge.relationship MERGE clause If we run these queries a few times, we’ll see output as shown below:|Therefore, it is advised - especially when relationship uniqueness constraints exist - to always use bound nodes in the MERGE pattern. The following would, therefore, be a more appropriate composition of the query: Query Using map parameters with MERGE MERGE does not support map parameters the same way that CREATE does. To use map parameters with MERGE, it is necessary to explicitly use the expected properties, such as in the following example. For more information on parameters, see Parameters.|Create a relationship  It might feel tempting to create new relationships with a single MERGE clause, such as: MERGE (:Person {name: \"Alice\"})-[:KNOWS]→(:Person {name: \"Bob\"}). However, this would result in the creation of an extra Alice node, so that you would end up with unintended duplicate records. To avoid this, always MATCH the elements that you want to update, and use the resulting reference in the MERGE clause (as shown in the previous example). See Understanding how MERGE works.|\"export-cypher-format-create.cypher\" \"data: nodes(5), rels(4)\" \"cypher\" 15 20000 export-cypher-format-create.cypher The creation of all graph entities uses the Cypher CREATE clause. If those entities may already exist in the destination database, we may choose to use another format. Using cypherFormat: \"updateAll\" means that the MERGE clause will be used instead of CREATE when creating entities.|MERGE GRAPH Determines whether the user can find, read, create and set properties on an element (node, relationship or both). NAME MANAGEMENT Schema Determines whether a user is allowed to create new labels, types and property names on a specific database. PRIVILEGE MANAGEMENT DBMS Determines whether the user can show, assign and remove privileges. READ GRAPH Determines whether the properties of an element (node, relationship or both) can be read while executing queries on the specified graph.|Update the database To update a node’s information in the database, use the Cypher clauses MATCH and SET: Update node  To create new nodes and relationships linking it to an already existing node, use a combination of the Cypher clauses MATCH and MERGE: Create a relationship|Under concurrent updates, MERGE only guarantees the existence of the MERGE pattern, but not uniqueness. To guarantee uniqueness of nodes with certain properties, a property uniqueness constraint should be used. See Using property uniqueness constraints with MERGE. Similar to MATCH, MERGE can match multiple occurrences of a pattern. If there are multiple matches, they will all be passed on to later stages of the query.|MERGE Introduction The MERGE clause either matches existing node patterns in the graph and binds them or, if not present, creates new data and binds that. In this way, it acts as a combination of MATCH and CREATE that allows for specific actions depending on whether the specified data was matched or created.\n"
     ]
    }
   ],
   "source": [
    "print(\"|\".join(topic_results['text'].to_list()))"
   ]
  },
  {
   "cell_type": "markdown",
   "id": "ebe57886-c134-421f-bc90-3f24e02a221b",
   "metadata": {},
   "source": [
    "The MERGE clause in Cypher either matches existing node patterns in the graph and binds them, or if not present, creates new data and binds that. It acts as a combination of MATCH and CREATE, allowing specific actions depending on whether the specified data was matched or created. It guarantees the existence of the MERGE pattern but not uniqueness. To ensure uniqueness of nodes with certain properties, a property uniqueness constraint should be used. If there are multiple matches, all of them will be passed on to later stages of the query. It is recommended to use bound nodes in the MERGE pattern, especially when relationship uniqueness constraints exist."
   ]
  },
  {
   "cell_type": "code",
   "execution_count": 34,
   "id": "36fa3afd-e1df-4b2f-beaf-f37a11ce2abc",
   "metadata": {},
   "outputs": [],
   "source": [
    "def query_documents(query):\n",
    "    result = gds.run_cypher(\n",
    "    \"\"\" \n",
    "    WITH genai.vector.encode($query, \"VertexAI\", { token: $token, projectId: $project }) AS queryVector\n",
    "    CALL db.index.vector.queryNodes(\"document-embeddings\", 5, queryVector) YIELD node, score\n",
    "    RETURN node.text AS text, score, node{.url} AS metadata\"\"\",\n",
    "        {\"query\":query, \"token\": gcloud_token, \"project\": \"neo4j-ps-202001\"})\n",
    "    return result"
   ]
  },
  {
   "cell_type": "code",
   "execution_count": 44,
   "id": "c18621fb-ab00-430b-aa3f-04721ed5c91f",
   "metadata": {},
   "outputs": [],
   "source": [
    "doc_results = query_documents(\"How does the Cypher MERGE statement work?\")"
   ]
  },
  {
   "cell_type": "code",
   "execution_count": 50,
   "id": "eafc8a97-eb11-4a88-92e1-d4513a21c095",
   "metadata": {},
   "outputs": [
    {
     "name": "stdout",
     "output_type": "stream",
     "text": [
      "MERGE Introduction The MERGE clause either matches existing node patterns in the graph and binds them or, if not present, creates new data and binds that. In this way, it acts as a combination of MATCH and CREATE that allows for specific actions depending on whether the specified data was matched or created.|When using MERGE on full patterns, the behavior is that either the whole pattern matches, or the whole pattern is created. MERGE will not partially use existing patterns. If partial matches are needed, this can be accomplished by splitting a pattern into multiple MERGE clauses.|Under concurrent updates, MERGE only guarantees the existence of the MERGE pattern, but not uniqueness. To guarantee uniqueness of nodes with certain properties, a property uniqueness constraint should be used. See Using property uniqueness constraints with MERGE. Similar to MATCH, MERGE can match multiple occurrences of a pattern. If there are multiple matches, they will all be passed on to later stages of the query.|row.to IS NOT NULL    MERGE (c1:Character {name: row.to})    WITH row, c, c1    CALL apoc.merge.relationship(c, toUpper(row.relationship_type), {}, {}, c1)    YIELD rel    RETURN count(*) AS count  }  RETURN count(*) AS finalCount} IN TRANSACTIONS OF 10 ROWS // Define batched transaction for every 10 rowsRETURN count(*)|true 1655200903558 \"Oliver Stone\" true 1655200903558 \"Rob Reiner\" true 1655200903558 \"Keanu Reeves\" true 1655200903558 Merge relationships Merge on a relationship MERGE can be used to match or create a relationship: Query\n"
     ]
    }
   ],
   "source": [
    "print(\"|\".join(doc_results['text'].to_list()))"
   ]
  },
  {
   "cell_type": "markdown",
   "id": "5c336636-df59-4902-a4de-7c1a4f717cf9",
   "metadata": {},
   "source": [
    "The MERGE clause in Cypher either matches existing node patterns in the graph and binds them or, if not present, creates new data and binds that. It acts as a combination of MATCH and CREATE, allowing for specific actions depending on whether the specified data was matched or created. When using MERGE on full patterns, the behavior is that either the whole pattern matches, or the whole pattern is created. MERGE will not partially use existing patterns. If there are multiple matches, they will all be passed on to later stages of the query. Under concurrent updates, MERGE only guarantees the existence of the MERGE pattern, but not uniqueness. To guarantee uniqueness of nodes with certain properties, a property uniqueness constraint should be used."
   ]
  },
  {
   "cell_type": "code",
   "execution_count": null,
   "id": "37f33836-07ac-4963-8c5f-e948b2f723df",
   "metadata": {},
   "outputs": [],
   "source": []
  },
  {
   "cell_type": "code",
   "execution_count": 38,
   "id": "4b44ee0e-323d-4a91-9ef1-31f3d417d65e",
   "metadata": {},
   "outputs": [],
   "source": [
    "prompt = ChatPromptTemplate.from_messages([\n",
    "    (\"system\", \"\"\"You are a Neo4j expert providing information about Neo4j software.\n",
    "                  Be as helpful as possible and return as much information as possible.\n",
    "                  Do not answer any questions that do not relate to Neo4j.\n",
    "                  Answer any questions based solely on the context below:\n",
    "                  <context>\n",
    "                  {context}\n",
    "                  </context>\"\"\"),\n",
    "    MessagesPlaceholder(variable_name=\"chat_history\", optional=True),\n",
    "    (\"user\", \"{input}\"),\n",
    "])"
   ]
  },
  {
   "cell_type": "code",
   "execution_count": 18,
   "id": "feb600a3-bf43-4d36-b951-ae8cd00a5b7d",
   "metadata": {},
   "outputs": [],
   "source": [
    "movie_info_template= \"overview: {page_content}, title: {title}, tagline: {tagline}\"\n",
    "document_prompt = PromptTemplate(input_variables=[\"page_content\", \"url\"],\n",
    "                                 template=movie_info_template\n",
    "                                 )\n"
   ]
  },
  {
   "cell_type": "code",
   "execution_count": 44,
   "id": "d8d6bbad-7907-45f1-b3ef-f745fa839860",
   "metadata": {},
   "outputs": [],
   "source": [
    "summary_retriever = summary_vectorstore.as_retriever()\n",
    "movie_retriever = movie_vectorstore.as_retriever()\n",
    "\n",
    "retrieval_qa_chat_prompt = hub.pull(\"langchain-ai/retrieval-qa-chat\")\n",
    "\n",
    "combine_docs_chain = create_stuff_documents_chain(\n",
    "    ChatOpenAI(temperature=0, openai_api_key=openai_api_key), prompt, document_prompt=document_prompt\n",
    "\n",
    ")\n",
    "summary_chain = create_retrieval_chain(summary_retriever, combine_docs_chain)\n",
    "movie_chain = create_retrieval_chain(movie_retriever, combine_docs_chain)"
   ]
  }
 ],
 "metadata": {
  "kernelspec": {
   "display_name": "chatbot",
   "language": "python",
   "name": "chatbot"
  },
  "language_info": {
   "codemirror_mode": {
    "name": "ipython",
    "version": 3
   },
   "file_extension": ".py",
   "mimetype": "text/x-python",
   "name": "python",
   "nbconvert_exporter": "python",
   "pygments_lexer": "ipython3",
   "version": "3.11.7"
  }
 },
 "nbformat": 4,
 "nbformat_minor": 5
}
