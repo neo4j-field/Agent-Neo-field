{
 "cells": [
  {
   "cell_type": "code",
   "execution_count": 164,
   "id": "802bc414-f911-4bad-9431-e2e651aeb5c8",
   "metadata": {},
   "outputs": [],
   "source": [
    "from langchain_community.vectorstores.neo4j_vector import Neo4jVector\n",
    "from langchain.chains.combine_documents import create_stuff_documents_chain\n",
    "from langchain.chains import create_retrieval_chain\n",
    "from getpass import getpass\n",
    "from langchain.prompts import ChatPromptTemplate, MessagesPlaceholder, HumanMessagePromptTemplate, PromptTemplate\n",
    "from langchain import hub\n",
    "from langchain_openai import ChatOpenAI\n",
    "from graphdatascience import GraphDataScience\n",
    "import pandas as pd"
   ]
  },
  {
   "cell_type": "code",
   "execution_count": 2,
   "id": "09ac5a1c-99fd-4656-9861-0d6b86a91186",
   "metadata": {},
   "outputs": [],
   "source": [
    "from langchain_google_vertexai import VertexAIEmbeddings\n",
    "from google.auth.credentials import Credentials"
   ]
  },
  {
   "cell_type": "code",
   "execution_count": 125,
   "id": "40155249-2f11-4d97-80b4-6cc6e7e30a1c",
   "metadata": {},
   "outputs": [
    {
     "name": "stdin",
     "output_type": "stream",
     "text": [
      " ········\n"
     ]
    }
   ],
   "source": [
    "openai_api_key = getpass()"
   ]
  },
  {
   "cell_type": "code",
   "execution_count": 5,
   "id": "aa350128-8eb6-4b9f-a059-c1d6abfb2fd6",
   "metadata": {},
   "outputs": [
    {
     "name": "stdin",
     "output_type": "stream",
     "text": [
      " ········\n"
     ]
    }
   ],
   "source": [
    "neo4j_password = getpass()"
   ]
  },
  {
   "cell_type": "code",
   "execution_count": 128,
   "id": "36b2e998-a17b-4133-a028-d3946d834ed1",
   "metadata": {},
   "outputs": [
    {
     "name": "stdin",
     "output_type": "stream",
     "text": [
      " ········\n"
     ]
    }
   ],
   "source": [
    "gcloud_token = getpass()"
   ]
  },
  {
   "cell_type": "code",
   "execution_count": 52,
   "id": "13cdc1e9-316c-4d3b-bc8b-a7066ffed29a",
   "metadata": {},
   "outputs": [],
   "source": [
    "neo4j_uri = \"neo4j+s://bc9f751a.databases.neo4j.io\"\n",
    "neo4j_user = \"neo4j\"\n",
    "gds = GraphDataScience(neo4j_uri, auth=(neo4j_user, neo4j_password))"
   ]
  },
  {
   "cell_type": "code",
   "execution_count": 102,
   "id": "be351c08-8d97-46cd-9673-20d0ed697555",
   "metadata": {},
   "outputs": [],
   "source": [
    "def query_docs_and_questions(query):\n",
    "    result = gds.run_cypher(\n",
    "    \"\"\" \n",
    "    //Encode query\n",
    "    WITH genai.vector.encode($query, \"VertexAI\", { token: $token, projectId: $project }) AS queryVector\n",
    "    \n",
    "    //Find the closest generated question and its context \n",
    "    CALL db.index.vector.queryNodes(\"generated_question_embeddings\", 1, queryVector) YIELD node, score\n",
    "    MATCH (node)-[:GENERATED_FROM_CONTEXT]->(d:Document)\n",
    "    WITH queryVector, score, d\n",
    "    ORDER BY gds.similarity.cosine(queryVector, d.embedding)\n",
    "    WITH queryVector, score as closestQuestionScore, collect(d) AS questionContext\n",
    "\n",
    "    //Find the seven closest documents to the query and sort by score\n",
    "    CALL db.index.vector.queryNodes(\"document-embeddings\", $maxTotalDocs, queryVector) YIELD node, score\n",
    "    WITH questionContext, closestQuestionScore, node, score\n",
    "    ORDER BY score DESC\n",
    "    WITH questionContext, closestQuestionScore, collect(node) AS docs, collect(score)[$maxTotalDocs - $maxQuestionDocs - 1] AS cutoffDocScore\n",
    "\n",
    "    //Check whether question or closest doc is closer to the query\n",
    "    WITH questionContext, closestQuestionScore, docs, cutoffDocScore,\n",
    "    CASE WHEN cutoffDocScore < closestQuestionScore THEN $maxQuestionDocs ELSE 0 END AS contextCount,\n",
    "    CASE WHEN cutoffDocScore < closestQuestionScore THEN true ELSE false END AS usedQuestion\n",
    "    WITH questionContext[..contextCount] + [d in docs WHERE NOT d in questionContext[..contextCount] | d][..$maxTotalDocs - size(questionContext[..contextCount])] AS combinedList, usedQuestion\n",
    "    \n",
    "    //Return results\n",
    "    UNWIND combinedList as doc\n",
    "    RETURN doc.text AS text, usedQuestion, doc{.url} AS metadata\"\"\",\n",
    "        {\"query\":query, \"token\": gcloud_token, \"project\": \"neo4j-ps-202001\", \"maxQuestionDocs\": 10, \"maxTotalDocs\": 12})\n",
    "    return result"
   ]
  },
  {
   "cell_type": "code",
   "execution_count": 103,
   "id": "9016885f-ed4d-4ac9-8841-ae5b1c71600c",
   "metadata": {},
   "outputs": [],
   "source": [
    "topic_results = query_docs_and_questions(\"What parameters are important for FastRP?\")"
   ]
  },
  {
   "cell_type": "code",
   "execution_count": 104,
   "id": "d9e5e119-83bb-4d65-9928-1a01169d4b7f",
   "metadata": {},
   "outputs": [
    {
     "data": {
      "text/html": [
       "<div>\n",
       "<style scoped>\n",
       "    .dataframe tbody tr th:only-of-type {\n",
       "        vertical-align: middle;\n",
       "    }\n",
       "\n",
       "    .dataframe tbody tr th {\n",
       "        vertical-align: top;\n",
       "    }\n",
       "\n",
       "    .dataframe thead th {\n",
       "        text-align: right;\n",
       "    }\n",
       "</style>\n",
       "<table border=\"1\" class=\"dataframe\">\n",
       "  <thead>\n",
       "    <tr style=\"text-align: right;\">\n",
       "      <th></th>\n",
       "      <th>text</th>\n",
       "      <th>usedQuestion</th>\n",
       "      <th>metadata</th>\n",
       "    </tr>\n",
       "  </thead>\n",
       "  <tbody>\n",
       "    <tr>\n",
       "      <th>0</th>\n",
       "      <td>0 1-.018-1.042Zm-4.69 9.64a1.998 1.998 0 0 0 2...</td>\n",
       "      <td>True</td>\n",
       "      <td>{'url': 'https://github.com/danb-neo4j/gds-gui...</td>\n",
       "    </tr>\n",
       "    <tr>\n",
       "      <th>1</th>\n",
       "      <td>quality, Neo4j's FastRP documentation provides...</td>\n",
       "      <td>True</td>\n",
       "      <td>{'url': 'https://github.com/danb-neo4j/gds-gui...</td>\n",
       "    </tr>\n",
       "    <tr>\n",
       "      <th>2</th>\n",
       "      <td>5. Creating FastRP node embeddings Next we use...</td>\n",
       "      <td>True</td>\n",
       "      <td>{'url': 'https://neo4j.com/docs/graph-data-sci...</td>\n",
       "    </tr>\n",
       "    <tr>\n",
       "      <th>3</th>\n",
       "      <td>by incorporating node properties, making the g...</td>\n",
       "      <td>True</td>\n",
       "      <td>{'url': 'https://github.com/danb-neo4j/gds-gui...</td>\n",
       "    </tr>\n",
       "    <tr>\n",
       "      <th>4</th>\n",
       "      <td>2. Tuning algorithm parameters In order to imp...</td>\n",
       "      <td>True</td>\n",
       "      <td>{'url': 'https://neo4j.com/docs/graph-data-sci...</td>\n",
       "    </tr>\n",
       "    <tr>\n",
       "      <th>5</th>\n",
       "      <td>3.5 0 1 1-4.95-4.95l2.5-2.5a3.5 3.5 0 0 1 4.95...</td>\n",
       "      <td>True</td>\n",
       "      <td>{'url': 'https://github.com/danb-neo4j/gds-gui...</td>\n",
       "    </tr>\n",
       "    <tr>\n",
       "      <th>6</th>\n",
       "      <td>jobId String Generated internally yes An ID th...</td>\n",
       "      <td>True</td>\n",
       "      <td>{'url': 'https://neo4j.com/docs/graph-data-sci...</td>\n",
       "    </tr>\n",
       "    <tr>\n",
       "      <th>7</th>\n",
       "      <td>This has some implications on how to use FastR...</td>\n",
       "      <td>True</td>\n",
       "      <td>{'url': 'https://neo4j.com/docs/graph-data-sci...</td>\n",
       "    </tr>\n",
       "    <tr>\n",
       "      <th>8</th>\n",
       "      <td>Configuration used for running the algorithm. ...</td>\n",
       "      <td>True</td>\n",
       "      <td>{'url': 'https://neo4j.com/docs/graph-data-sci...</td>\n",
       "    </tr>\n",
       "    <tr>\n",
       "      <th>9</th>\n",
       "      <td>preProcessingMillis Integer Milliseconds for p...</td>\n",
       "      <td>True</td>\n",
       "      <td>{'url': 'https://neo4j.com/docs/graph-data-sci...</td>\n",
       "    </tr>\n",
       "    <tr>\n",
       "      <th>10</th>\n",
       "      <td>embedding List of Float FastRP node embedding....</td>\n",
       "      <td>True</td>\n",
       "      <td>{'url': 'https://neo4j.com/docs/graph-data-sci...</td>\n",
       "    </tr>\n",
       "    <tr>\n",
       "      <th>11</th>\n",
       "      <td>GraphSAGE, or HashGNN.&lt;/li&gt;\\n&lt;li&gt;&lt;strong&gt;Machi...</td>\n",
       "      <td>True</td>\n",
       "      <td>{'url': 'https://github.com/danb-neo4j/gds-gui...</td>\n",
       "    </tr>\n",
       "  </tbody>\n",
       "</table>\n",
       "</div>"
      ],
      "text/plain": [
       "                                                 text  usedQuestion  \\\n",
       "0   0 1-.018-1.042Zm-4.69 9.64a1.998 1.998 0 0 0 2...          True   \n",
       "1   quality, Neo4j's FastRP documentation provides...          True   \n",
       "2   5. Creating FastRP node embeddings Next we use...          True   \n",
       "3   by incorporating node properties, making the g...          True   \n",
       "4   2. Tuning algorithm parameters In order to imp...          True   \n",
       "5   3.5 0 1 1-4.95-4.95l2.5-2.5a3.5 3.5 0 0 1 4.95...          True   \n",
       "6   jobId String Generated internally yes An ID th...          True   \n",
       "7   This has some implications on how to use FastR...          True   \n",
       "8   Configuration used for running the algorithm. ...          True   \n",
       "9   preProcessingMillis Integer Milliseconds for p...          True   \n",
       "10  embedding List of Float FastRP node embedding....          True   \n",
       "11  GraphSAGE, or HashGNN.</li>\\n<li><strong>Machi...          True   \n",
       "\n",
       "                                             metadata  \n",
       "0   {'url': 'https://github.com/danb-neo4j/gds-gui...  \n",
       "1   {'url': 'https://github.com/danb-neo4j/gds-gui...  \n",
       "2   {'url': 'https://neo4j.com/docs/graph-data-sci...  \n",
       "3   {'url': 'https://github.com/danb-neo4j/gds-gui...  \n",
       "4   {'url': 'https://neo4j.com/docs/graph-data-sci...  \n",
       "5   {'url': 'https://github.com/danb-neo4j/gds-gui...  \n",
       "6   {'url': 'https://neo4j.com/docs/graph-data-sci...  \n",
       "7   {'url': 'https://neo4j.com/docs/graph-data-sci...  \n",
       "8   {'url': 'https://neo4j.com/docs/graph-data-sci...  \n",
       "9   {'url': 'https://neo4j.com/docs/graph-data-sci...  \n",
       "10  {'url': 'https://neo4j.com/docs/graph-data-sci...  \n",
       "11  {'url': 'https://github.com/danb-neo4j/gds-gui...  "
      ]
     },
     "execution_count": 104,
     "metadata": {},
     "output_type": "execute_result"
    }
   ],
   "source": [
    "topic_results"
   ]
  },
  {
   "cell_type": "code",
   "execution_count": 108,
   "id": "36fa3afd-e1df-4b2f-beaf-f37a11ce2abc",
   "metadata": {},
   "outputs": [],
   "source": [
    "def query_documents(query):\n",
    "    result = gds.run_cypher(\n",
    "    \"\"\" \n",
    "    WITH genai.vector.encode($query, \"VertexAI\", { token: $token, projectId: $project }) AS queryVector\n",
    "    CALL db.index.vector.queryNodes(\"document-embeddings\", $maxTotalDocs, queryVector) YIELD node, score\n",
    "    RETURN node.text AS text, score, node{.url} AS metadata\"\"\",\n",
    "        {\"query\":query, \"token\": gcloud_token, \"project\": \"neo4j-ps-202001\", \"maxTotalDocs\": 12})\n",
    "    return result"
   ]
  },
  {
   "cell_type": "code",
   "execution_count": 109,
   "id": "c18621fb-ab00-430b-aa3f-04721ed5c91f",
   "metadata": {},
   "outputs": [],
   "source": [
    "doc_results = query_documents(\"What parameters are important for FastRP?\")"
   ]
  },
  {
   "cell_type": "code",
   "execution_count": 110,
   "id": "a2b5ab9a-6453-4d9e-9fcf-e328c2ec5c42",
   "metadata": {},
   "outputs": [
    {
     "data": {
      "text/html": [
       "<div>\n",
       "<style scoped>\n",
       "    .dataframe tbody tr th:only-of-type {\n",
       "        vertical-align: middle;\n",
       "    }\n",
       "\n",
       "    .dataframe tbody tr th {\n",
       "        vertical-align: top;\n",
       "    }\n",
       "\n",
       "    .dataframe thead th {\n",
       "        text-align: right;\n",
       "    }\n",
       "</style>\n",
       "<table border=\"1\" class=\"dataframe\">\n",
       "  <thead>\n",
       "    <tr style=\"text-align: right;\">\n",
       "      <th></th>\n",
       "      <th>text</th>\n",
       "      <th>score</th>\n",
       "      <th>metadata</th>\n",
       "    </tr>\n",
       "  </thead>\n",
       "  <tbody>\n",
       "    <tr>\n",
       "      <th>0</th>\n",
       "      <td>3.5 0 1 1-4.95-4.95l2.5-2.5a3.5 3.5 0 0 1 4.95...</td>\n",
       "      <td>0.896098</td>\n",
       "      <td>{'url': 'https://github.com/danb-neo4j/gds-gui...</td>\n",
       "    </tr>\n",
       "    <tr>\n",
       "      <th>1</th>\n",
       "      <td>2. Tuning algorithm parameters In order to imp...</td>\n",
       "      <td>0.894735</td>\n",
       "      <td>{'url': 'https://neo4j.com/docs/graph-data-sci...</td>\n",
       "    </tr>\n",
       "    <tr>\n",
       "      <th>2</th>\n",
       "      <td>by incorporating node properties, making the g...</td>\n",
       "      <td>0.886423</td>\n",
       "      <td>{'url': 'https://github.com/danb-neo4j/gds-gui...</td>\n",
       "    </tr>\n",
       "    <tr>\n",
       "      <th>3</th>\n",
       "      <td>jobId String Generated internally yes An ID th...</td>\n",
       "      <td>0.880479</td>\n",
       "      <td>{'url': 'https://neo4j.com/docs/graph-data-sci...</td>\n",
       "    </tr>\n",
       "    <tr>\n",
       "      <th>4</th>\n",
       "      <td>5. Creating FastRP node embeddings Next we use...</td>\n",
       "      <td>0.880283</td>\n",
       "      <td>{'url': 'https://neo4j.com/docs/graph-data-sci...</td>\n",
       "    </tr>\n",
       "    <tr>\n",
       "      <th>5</th>\n",
       "      <td>This has some implications on how to use FastR...</td>\n",
       "      <td>0.879461</td>\n",
       "      <td>{'url': 'https://neo4j.com/docs/graph-data-sci...</td>\n",
       "    </tr>\n",
       "    <tr>\n",
       "      <th>6</th>\n",
       "      <td>Configuration used for running the algorithm. ...</td>\n",
       "      <td>0.879033</td>\n",
       "      <td>{'url': 'https://neo4j.com/docs/graph-data-sci...</td>\n",
       "    </tr>\n",
       "    <tr>\n",
       "      <th>7</th>\n",
       "      <td>preProcessingMillis Integer Milliseconds for p...</td>\n",
       "      <td>0.876872</td>\n",
       "      <td>{'url': 'https://neo4j.com/docs/graph-data-sci...</td>\n",
       "    </tr>\n",
       "    <tr>\n",
       "      <th>8</th>\n",
       "      <td>embedding List of Float FastRP node embedding....</td>\n",
       "      <td>0.875791</td>\n",
       "      <td>{'url': 'https://neo4j.com/docs/graph-data-sci...</td>\n",
       "    </tr>\n",
       "    <tr>\n",
       "      <th>9</th>\n",
       "      <td>GraphSAGE, or HashGNN.&lt;/li&gt;\\n&lt;li&gt;&lt;strong&gt;Machi...</td>\n",
       "      <td>0.875726</td>\n",
       "      <td>{'url': 'https://github.com/danb-neo4j/gds-gui...</td>\n",
       "    </tr>\n",
       "    <tr>\n",
       "      <th>10</th>\n",
       "      <td>3. Syntax This section covers the syntax used ...</td>\n",
       "      <td>0.875405</td>\n",
       "      <td>{'url': 'https://neo4j.com/docs/graph-data-sci...</td>\n",
       "    </tr>\n",
       "    <tr>\n",
       "      <th>11</th>\n",
       "      <td>It is required that iterationWeights is non-em...</td>\n",
       "      <td>0.874620</td>\n",
       "      <td>{'url': 'https://neo4j.com/docs/graph-data-sci...</td>\n",
       "    </tr>\n",
       "  </tbody>\n",
       "</table>\n",
       "</div>"
      ],
      "text/plain": [
       "                                                 text     score  \\\n",
       "0   3.5 0 1 1-4.95-4.95l2.5-2.5a3.5 3.5 0 0 1 4.95...  0.896098   \n",
       "1   2. Tuning algorithm parameters In order to imp...  0.894735   \n",
       "2   by incorporating node properties, making the g...  0.886423   \n",
       "3   jobId String Generated internally yes An ID th...  0.880479   \n",
       "4   5. Creating FastRP node embeddings Next we use...  0.880283   \n",
       "5   This has some implications on how to use FastR...  0.879461   \n",
       "6   Configuration used for running the algorithm. ...  0.879033   \n",
       "7   preProcessingMillis Integer Milliseconds for p...  0.876872   \n",
       "8   embedding List of Float FastRP node embedding....  0.875791   \n",
       "9   GraphSAGE, or HashGNN.</li>\\n<li><strong>Machi...  0.875726   \n",
       "10  3. Syntax This section covers the syntax used ...  0.875405   \n",
       "11  It is required that iterationWeights is non-em...  0.874620   \n",
       "\n",
       "                                             metadata  \n",
       "0   {'url': 'https://github.com/danb-neo4j/gds-gui...  \n",
       "1   {'url': 'https://neo4j.com/docs/graph-data-sci...  \n",
       "2   {'url': 'https://github.com/danb-neo4j/gds-gui...  \n",
       "3   {'url': 'https://neo4j.com/docs/graph-data-sci...  \n",
       "4   {'url': 'https://neo4j.com/docs/graph-data-sci...  \n",
       "5   {'url': 'https://neo4j.com/docs/graph-data-sci...  \n",
       "6   {'url': 'https://neo4j.com/docs/graph-data-sci...  \n",
       "7   {'url': 'https://neo4j.com/docs/graph-data-sci...  \n",
       "8   {'url': 'https://neo4j.com/docs/graph-data-sci...  \n",
       "9   {'url': 'https://github.com/danb-neo4j/gds-gui...  \n",
       "10  {'url': 'https://neo4j.com/docs/graph-data-sci...  \n",
       "11  {'url': 'https://neo4j.com/docs/graph-data-sci...  "
      ]
     },
     "execution_count": 110,
     "metadata": {},
     "output_type": "execute_result"
    }
   ],
   "source": [
    "doc_results"
   ]
  },
  {
   "cell_type": "code",
   "execution_count": null,
   "id": "37f33836-07ac-4963-8c5f-e948b2f723df",
   "metadata": {},
   "outputs": [],
   "source": []
  },
  {
   "cell_type": "code",
   "execution_count": 60,
   "id": "4b44ee0e-323d-4a91-9ef1-31f3d417d65e",
   "metadata": {},
   "outputs": [],
   "source": [
    "prompt = ChatPromptTemplate.from_messages([\n",
    "    (\"system\", \"\"\"You are a Neo4j expert providing information about Neo4j software.\n",
    "                  Be as helpful as possible and return as much information as possible.\n",
    "                  Do not answer any questions that do not relate to Neo4j.\n",
    "                  Answer any questions based solely on the context below:\n",
    "                  <context>\n",
    "                  {context}\n",
    "                  </context>\"\"\"),\n",
    "    (\"user\", \"{input}\"),\n",
    "])"
   ]
  },
  {
   "cell_type": "code",
   "execution_count": 126,
   "id": "91b37543-68be-4549-87ef-5ac9cb5064f8",
   "metadata": {},
   "outputs": [],
   "source": [
    "chat = ChatOpenAI(openai_api_key = openai_api_key, temperature = 0, model = \"gpt-3.5-turbo\")\n",
    "chat_chain = prompt | chat"
   ]
  },
  {
   "cell_type": "code",
   "execution_count": 175,
   "id": "761ea722-575e-4ca4-b02a-8c190294b267",
   "metadata": {},
   "outputs": [],
   "source": [
    "def compare_retrieval(question):\n",
    "    question_context = query_docs_and_questions(question)\n",
    "    used_questions = question_context.loc[0,'usedQuestion']\n",
    "    doc_context = query_documents(question)\n",
    "    merge_df = question_context.merge(doc_context, how=\"outer\", on=\"text\")\n",
    "    question_only_context = merge_df[pd.isna(merge_df['metadata_x'])]['text'].to_list()\n",
    "    without_question_only_context = merge_df[pd.isna(merge_df['metadata_y'])]['text'].to_list()\n",
    "    question_response = chat_chain.invoke({\"context\":\". \".join(question_context['text'].to_list()), \"input\": question})\n",
    "    doc_response = chat_chain.invoke({\"context\":\". \".join(doc_context['text'].to_list()), \"input\": question})\n",
    "    return {\"used_questions\": used_questions, \n",
    "            \"with_question_response\": question_response.content, \n",
    "            \"without_question_response\": doc_response.content,\n",
    "            \"question_only_context\": question_only_context,\n",
    "            \"without_question_only_context\": without_question_only_context}                                          \n",
    "                                     "
   ]
  },
  {
   "cell_type": "code",
   "execution_count": 181,
   "id": "34ea9a11-09e9-4dfe-99ce-90bd87df8e4a",
   "metadata": {},
   "outputs": [],
   "source": [
    "def display_results(question):\n",
    "    result_dict = compare_retrieval(question)\n",
    "    print(\"Used questions?\", result_dict['used_questions'])\n",
    "    print()\n",
    "    print(\"With questions:\", result_dict['with_question_response'])\n",
    "    if result_dict['used_questions']:\n",
    "        print()\n",
    "        print(\"Context only used in question response:\", result_dict['question_only_context'])\n",
    "    print()\n",
    "    print(\"Without questions:\", result_dict['without_question_response'])\n",
    "    if result_dict['used_questions']:\n",
    "        print()\n",
    "        print(\"Context only used in documents-only response:\", result_dict['without_question_only_context'])   "
   ]
  },
  {
   "cell_type": "code",
   "execution_count": 179,
   "id": "ef188ba0-3a9f-4327-9697-95b48d407856",
   "metadata": {},
   "outputs": [
    {
     "name": "stdout",
     "output_type": "stream",
     "text": [
      "Used questions? True\n",
      "\n",
      "With questions: Yes, Neo4j works with vectors through node embedding algorithms. Node embedding algorithms compute low-dimensional vector representations of nodes in a graph. These vectors, also called embeddings, can be used for machine learning tasks. The Neo4j Graph Data Science library contains several node embedding algorithms such as FastRP, GraphSAGE, Node2Vec, and HashGNN. These algorithms can generate vector representations of nodes in a graph, allowing for various machine learning applications.\n",
      "\n",
      "Context only used in question response: [\"(a) (()-[:KNOWS]->()){3,5} (b) (a)-[r*..5 {name: 'Filipa'}]->(b) (a) (()-[r {name: 'Filipa'}]->()){1,5} (b) Equijoins The variable of a variable-length relationship can be used in subsequent patterns to refer to the list of relationships the variable is bound to. This is the same as the equijoin for variables bound to single nodes or relationships. This section uses the following graph: To recreate the graph, run the following query against an empty Neo4j database: Query\", ':use db0; LOAD CSV WITH HEADERS FROM \"https://data.neo4j.com/northwind/products.csv\" AS row CREATE (n:Product) SET n = row, n.unitPrice = toFloat(row.unitPrice), n.unitsInStock = toInteger(row.unitsInStock), n.unitsOnOrder = toInteger(row.unitsOnOrder), n.reorderLevel = toInteger(row.reorderLevel), n.discontinued = (row.discontinued <> \"0\"); LOAD CSV WITH HEADERS FROM \"https://data.neo4j.com/northwind/categories.csv\" AS row CREATE (n:Category) SET n = row;', 'CREATE INDEX FOR (c:Customer) ON (c.customerID); LOAD CSV WITH HEADERS FROM \"https://data.neo4j.com/northwind/orders.csv\" AS row WITH row MATCH (c:Customer) WHERE row.customerID = c.customerID CREATE (o:Order) SET o = row; CREATE INDEX FOR (o:Order) ON (o.orderID); MATCH (c:Customer),(o:Order) WHERE c.customerID = o.customerID CREATE (c)-[:PURCHASED]->(o); LOAD CSV WITH HEADERS FROM \"https://data.neo4j.com/northwind/products.csv\" AS row CREATE (n:Product) SET n.productID = row.productID;', 'CREATE INDEX FOR (o:Order) ON (o.orderID); MATCH (c:Customer),(o:Order) WHERE c.customerID = o.customerID CREATE (c)-[:PURCHASED]->(o); LOAD CSV WITH HEADERS FROM \"https://data.neo4j.com/northwind/products.csv\" AS row CREATE (n:Product) SET n.productID = row.productID; CREATE INDEX FOR (p:Product) ON (p.productID);', 'CREATE INDEX FOR (p:Product) ON (p.productID); LOAD CSV WITH HEADERS FROM \"https://data.neo4j.com/northwind/order-details.csv\" AS row MATCH (p:Product), (o:Order) WHERE p.productID = row.productID AND o.orderID = row.orderID CREATE (o)-[details:ORDERS]->(p) SET details = row, details.quantity = toInteger(row.quantity); Press Enter. Verify that the EU Customer orders data is loaded in db1:', 'LOAD CSV WITH HEADERS FROM \"https://data.neo4j.com/northwind/suppliers.csv\" AS row CREATE (n:Supplier) SET n = row; CREATE INDEX FOR (p:Product) ON (p.productID); CREATE INDEX FOR (c:Category) ON (c.categoryID); CREATE INDEX FOR (s:Supplier) ON (s.supplierID); MATCH (p:Product),(c:Category) WHERE p.categoryID = c.categoryID CREATE (p)-[:PART_OF]->(c); MATCH (p:Product),(s:Supplier) WHERE p.supplierID = s.supplierID CREATE (s)-[:SUPPLIES]->(p); Press Enter.', 'Query Query Plan Relationship TEXT index In this example, a KNOWS(metIn) relationship TEXT index is available. Query Query Plan Multiple available index types In the example below, both a Person(middlename) node TEXT index and a Person(middlename) node RANGE index are available. The RANGE node index is chosen. Query Query Plan Equality check using WHERE (single-property index)', \"With the graph in Neo4j we can now project it into the graph catalog to prepare it for algorithm execution. We do this using a native projection targeting the User nodes and the FRIEND relationships. In the examples below we will use named graphs and native projections as the norm. However, Cypher projections can also be used. The following statement will project a graph using athe undirected projection and store it in the graph catalog under the name 'graph'.\"]\n",
      "\n",
      "Without questions: Yes, Neo4j supports node embeddings, which are low-dimensional vector representations of nodes in a graph. These vectors, also known as embeddings, can be used for machine learning tasks. The Neo4j Graph Data Science library includes node embedding algorithms such as FastRP, GraphSAGE, Node2Vec, and HashGNN, which can generate vector representations of nodes in a graph.\n",
      "\n",
      "Context only used in documents-only response: ['2.2.1. Projecting a single relationship type The simplest syntax is to specify a single relationship type as a string value. Short-hand String-syntax for  Example outline: 2.2.2. Projecting multiple relationship types To project more than one relationship type, the list syntax is available. Specify all relationship types to be projected as a list of strings. Short-hand List-syntax for  Example outline:', 'Sometimes, we also want to project node or relationship properties.', 'The properties key can take a similar set of syntax variants as the node projection itself: a single string for a single property, a list of strings for multiple properties, or a map for the full syntax expressiveness. Extended Map-syntax for  <projected-label> String no n/a The node label in the projected graph. label String yes projected-label The node label in the Neo4j graph. If not set, uses the projected-label. properties Map, List or String yes {}', 'The properties key can take a similar set of syntax variants as the relationship projection itself: a single string for a single property, a list of strings for multiple properties, or a map for the full syntax expressiveness. Extended Map-syntax for  <projected-type> String no n/a The name of the relationship type in the projected graph. type String yes projected-type The relationship type in the Neo4j graph. orientation String yes NATURAL', 'The relationships to be projected. In this example, the relationships of type KNOWS. \"persons\" {Person={label=Person, properties={}}} {KNOWS={aggregation=DEFAULT, indexInverse=false, orientation=NATURAL, properties={}, type=KNOWS}}', 'orientation String yes NATURAL Denotes how Neo4j relationships are represented in the projected graph. Allowed values are NATURAL, UNDIRECTED, REVERSE. aggregation String no NONE Handling of parallel relationships. Allowed values are NONE, MIN, MAX, SUM, SINGLE, COUNT. properties Map, List or String yes {} The projected relationship properties for the specified projected-type. <projected-property-key> String no n/a The key for the relationship property in the projected graph. property', 'property String yes projected-property-key The node property key in the Neo4j graph. If not set, uses the projected-property-key. defaultValue Float or Integer yes Double.NaN The default value if the property is not defined for a node. 3. Examples In order to demonstrate the GDS Graph Projection capabilities we are going to create a small social network graph in Neo4j. The example graph looks like this: The following Cypher statement will create the example graph in the Neo4j database:', \"sourceNodeProperties Map {} The properties of the source node. targetNodeProperties Map {} The properties of the target node. sourceNodeLabels List of String or String [] The label(s) of the source node. targetNodeLabels List of String or String [] The label(s) of the source node. relationshipProperties Map {} The properties of the source node. relationshipType String '*' The type of the relationship. readConcurrency Integer\"]\n"
     ]
    }
   ],
   "source": [
    "display_results(\"Does Neo4j work with vectors?\")"
   ]
  },
  {
   "cell_type": "code",
   "execution_count": 182,
   "id": "981fd621-a996-4a3f-8f14-28594afe6783",
   "metadata": {},
   "outputs": [
    {
     "name": "stdout",
     "output_type": "stream",
     "text": [
      "Used questions? False\n",
      "\n",
      "With questions: People might use virtual nodes with GDS (Graph Data Science) for various reasons, such as:\n",
      "\n",
      "1. **Graph Grouping**: Large graphs can be hard to understand or visualize. By grouping nodes based on certain properties into virtual nodes, users can aggregate information and create a more concise and easier-to-understand representation of the graph.\n",
      "\n",
      "2. **Aggregate Relationships**: Virtual nodes can be used to aggregate relationships between groups of nodes, providing a summary view of the connections within the graph.\n",
      "\n",
      "3. **Projection of Data**: Virtual nodes can be used to project data in a different way, such as aggregating relationships into one or collapsing intermediate nodes into virtual relationships. This can help simplify the graph structure for specific analysis or visualization purposes.\n",
      "\n",
      "4. **Enhanced Security**: Virtual nodes can be used to hide away sensitive properties or intermediate nodes/relationships for security reasons, ensuring that only relevant information is accessible to users.\n",
      "\n",
      "5. **Visualization of Data from Other Sources**: Virtual nodes can be used to visualize data from various sources (computation, RDBMS, document-dbs, CSV, XML, JSON) as a graph without physically storing the data in the database.\n",
      "\n",
      "6. **Skipping Intermediate Nodes**: Virtual nodes can be used to skip intermediate nodes in longer paths, allowing users to focus on the most relevant nodes and relationships for their analysis.\n",
      "\n",
      "7. **Creating Alternate Data Models**: Virtual nodes allow users to test or query data in an alternate data model than what physically exists in the database, providing flexibility in data analysis and exploration.\n",
      "\n",
      "Overall, virtual nodes in GDS offer a way to manipulate and represent graph data in a more customized and efficient manner for specific analytical or visualization needs.\n",
      "\n",
      "Without questions: People might use virtual nodes with GDS (Graph Data Science) for various reasons, such as:\n",
      "\n",
      "1. **Visualization**: Virtual nodes can be used to return only a few properties of nodes or relationships to the visualization, making it easier to understand complex graphs.\n",
      "\n",
      "2. **Graph Algorithms**: Some algorithms require nodes as input from the user. Virtual nodes can be created to provide input nodes for algorithms like shortest path, without affecting the original graph.\n",
      "\n",
      "3. **Data Aggregation**: Virtual nodes can be used to aggregate information to a higher level of abstraction, making it easier to analyze and interpret large datasets.\n",
      "\n",
      "4. **Security**: Virtual nodes can be used to hide away properties or intermediate nodes/relationships for security reasons, allowing users to access only the necessary information.\n",
      "\n",
      "5. **Graph Grouping**: Virtual nodes can help in visualizing data from other sources (computation, RDBMS, document-dbs, CSV, XML, JSON) as a graph without storing it physically in the database.\n",
      "\n",
      "6. **Projection of Partial Data**: Virtual nodes can be used to project partial data, aggregating relationships into one or collapsing intermediate nodes into virtual relationships for easier analysis.\n",
      "\n",
      "Overall, virtual nodes provide a flexible way to manipulate and analyze graph data without altering the original graph structure.\n"
     ]
    }
   ],
   "source": [
    "display_results(\"Why might people use virtual nodes with GDS?\")"
   ]
  },
  {
   "cell_type": "code",
   "execution_count": 185,
   "id": "67b628b4-6a85-4a0d-a902-d002c9c45b5b",
   "metadata": {},
   "outputs": [
    {
     "name": "stdout",
     "output_type": "stream",
     "text": [
      "Used questions? True\n",
      "\n",
      "With questions: To restore a graph from a backup in Neo4j, you can follow these steps:\n",
      "\n",
      "1. First, ensure that you have backed up your graph with the necessary metadata included.\n",
      "2. Use the \"gds.alpha.backup\" procedure to back up your graph to disk.\n",
      "3. To restore the backed-up graph, you can use the \"gds.alpha.restore\" procedure.\n",
      "4. Provide the name of the graph you want to restore as a parameter to the restore procedure.\n",
      "5. The restore procedure will load the graph back into memory, allowing you to access the previously backed-up data.\n",
      "\n",
      "By following these steps, you can easily restore a graph from a backup in Neo4j.\n",
      "\n",
      "Context only used in question response: [':exit; Restore the database backup You use the neo4j-admin database restore command to restore the database backup, and then the Cypher command CREATE DATABASE name to create the restored database in the system database. For information about the command syntax, options, and usage, see Restore a database backup. For Neo4j cluster deployments, restore the database backup on each cluster server. Run the neo4j-admin database restore command to restore the database backup:', 'Drop the database that requires the restore:  DROP DATABASE databasename;  Do not exit the cypher-shell session. In a different shell terminal, restore from the backup that contains the data up to the desired date.  bin/neo4j-admin database restore --from-path=/path/to/mybackups/neo4j-2023-06-29T14-50-45.backup --restore-until=\"2023-06-29 13:50:45\"', 'Figure 1. Backup chain Usage The neo4j-admin database backup command can be used for performing an online full or differential backup from a running Neo4j Enterprise server. The produced differential backup artifact contains transaction logs that can be replayed and applied to stores contained in full backup artifacts when restoring a backup chain.', 'If the backup exists on a cloud provider, you can take one of the following approaches: Create a standalone or a cluster using the Neo4j Helm chart with a custom Neo4j image that has all the cloud provider utilities to download the backup from the respective cloud provider storage to your specific mount.  Restore the backup following the steps described in Restore a single database. Get the backup on your local machine.', 'If you know the transaction ID of the last transaction that was committed before the date you want to restore to, you can use the --restore-until= argument with the transaction ID instead of the date. For example, --restore-until=123. Using cypher-shell, recreate the database that you dropped using CREATE DATABASE against the system database, for example:  CREATE DATABASE databasename; Restore a database backup in a cluster', 'Restore a database backup in a cluster To restore a database backup in a cluster, designate one of the servers to be used as a seeder, and restore the database backup on that server. Then, use that server to create the restored database on other servers in the cluster. For more information, see Designated seeder. Restore users and roles metadata If you have backed up a database with the option --include-metadata, you can manually restore the users and roles metadata.', 'Restore data up to a specific date To restore data up to a specific date, you need to pass the backup artifact that contains the data up to that date. Restoring data up to a specific date is only possible after you drop the existing database. Log in to the Neo4j using cypher-shell:  bin/cypher-shell -u neo4j -p password Change the active database to system:  :use system; Stop the database that requires the restore:  STOP DATABASE databasename; Drop the database that requires the restore:']\n",
      "\n",
      "Without questions: To restore a graph from a backup in Neo4j, you can follow these general steps:\n",
      "\n",
      "1. Drop the database that requires the restore:\n",
      "   ```\n",
      "   DROP DATABASE databasename;\n",
      "   ```\n",
      "\n",
      "2. Do not exit the cypher-shell session. In a different shell terminal, restore from the backup that contains the data up to the desired date:\n",
      "   ```\n",
      "   bin/neo4j-admin database restore --from-path=/path/to/mybackups/neo4j-2023-06-29T14-50-45.backup --restore-until=\"2023-06-29 13:50:45\"\n",
      "   ```\n",
      "\n",
      "3. If you know the transaction ID of the last transaction that was committed before the date you want to restore to, you can use the `--restore-until=` argument with the transaction ID instead of the date. For example, `--restore-until=123`.\n",
      "\n",
      "4. Using cypher-shell, recreate the database that you dropped using `CREATE DATABASE` against the system database, for example:\n",
      "   ```\n",
      "   CREATE DATABASE databasename;\n",
      "   ```\n",
      "\n",
      "These steps will help you restore a graph from a backup in Neo4j.\n",
      "\n",
      "Context only used in documents-only response: ['1. Create Neo4j databases from projected graphs We can create new Neo4j databases from projected graphs stored in the graph catalog. All nodes, relationships and properties present in the projected graph are written to a new Neo4j database. This includes data that has been projected in gds.graph.project and data that has been added by running algorithms in mutate mode. The newly created database will be stored in the Neo4j databases directory using a given database name.', 'Back up and restore (online) Migrate Neo4j from the Labs Helm charts to the Neo4j Helm charts (offline) ?', 'Export - Download the database as a .tar.gz file, allowing you to store a local copy and work on your data offline. The compressed archive contains a .dump file that can be imported directly or pushed to the cloud. Create instance from snapshot - Create a new AuraDS instance using the data from the snapshot. This opens a window where you can assign a name to the instance that will be created. Restore', 'The back-up and restore procedures described in this section will provide a simple and uniform way of saving graphs and models in order to load them back into memory after a database restart.', 'The following statement will project a graph using a native projection and store it in the graph catalog under the name \\'myGraph\\'. We can now run the back-up procedure in order to store the in-memory graph on disk. The following will run the back-up procedure: \"myGraph\" \"SUCCESSFUL\" It is now safe to drop the in-memory graph or shutdown the db, as we can restore it at a later point. The following will drop the in-memory graph:', 'gds.debug.sysInfo Monitoring gds.debug.arrow Create an impermanent database backed by a projected graph gds.alpha.create.cypherdb Drop an impermanent database backed by a projected graph gds.alpha.drop.cypherdb Get an overview of the system’s workload and available resources gds.alpha.systemMonitor Back-up graphs and models to disk gds.alpha.backup Restore persisted graphs and models to memory gds.alpha.restore List configured defaults gds.alpha.config.defaults.list Configure a default', 'useLabelMapping Boolean true Flag to decide whether to use node label mapping when exporting the graph. See exporting graphs to csv for details. graphName String The name of the persisted graph or an empty string if a model was persisted instead. modelName String The name of the persisted model or an empty string if a graph was persisted instead. exportPath String Path where the backups are stored at. backupTime LocalDateTime Point in time when the backup was created. exportMillis Long']\n"
     ]
    }
   ],
   "source": [
    "display_results(\"How can a graph be restored from a backup in Neo4j?\")"
   ]
  },
  {
   "cell_type": "code",
   "execution_count": 186,
   "id": "746ab316-eb62-41d0-9b16-d738cea42a67",
   "metadata": {},
   "outputs": [
    {
     "name": "stdout",
     "output_type": "stream",
     "text": [
      "Used questions? False\n",
      "\n",
      "With questions: The APOC Core Temporal Functions provide support for working with temporal types, timestamps, and date string values in Neo4j. Here are the main functions along with examples of their usage:\n",
      "\n",
      "1. `apoc.temporal.toZonedTemporal(time String, format String, timezone String)`:\n",
      "   - This function parses the given date string using the specified format into the given time zone.\n",
      "   - Example:\n",
      "     ```\n",
      "     RETURN apoc.temporal.toZonedTemporal(\"2022-01-15 12:30:00\", \"yyyy-MM-dd HH:mm:ss\", \"America/New_York\") AS zonedTime\n",
      "     ```\n",
      "\n",
      "2. `apoc.temporal.format(temporal Any, format String)`:\n",
      "   - This function formats the given temporal value into the specified time format.\n",
      "   - Example:\n",
      "     ```\n",
      "     RETURN apoc.temporal.format(datetime(), \"yyyy-MM-dd HH:mm:ss\") AS formattedTime\n",
      "     ```\n",
      "\n",
      "3. `apoc.temporal.formatDuration(input Any, format String)`:\n",
      "   - This function formats the given duration into the specified time format.\n",
      "   - Example:\n",
      "     ```\n",
      "     RETURN apoc.temporal.formatDuration(duration({days: 2, hours: 5}), \"D 'days' H 'hours'\") AS formattedDuration\n",
      "     ```\n",
      "\n",
      "4. `apoc.temporal.toZonedTemporal(time String, format String, timezone String)`:\n",
      "   - This function parses the given date string using the specified format into the given time zone.\n",
      "   - Example:\n",
      "     ```\n",
      "     RETURN apoc.temporal.toZonedTemporal(\"2022-01-15 12:30:00\", \"yyyy-MM-dd HH:mm:ss\", \"Europe/London\") AS zonedTime\n",
      "     ```\n",
      "\n",
      "These functions are useful for manipulating and formatting temporal data in Neo4j queries, allowing you to work with dates, times, and time zones effectively.\n",
      "\n",
      "Without questions: The APOC Core Temporal Functions provide support for working with temporal types, timestamps, and date string values in Neo4j. Here are the main functions along with examples of their usage:\n",
      "\n",
      "1. `apoc.temporal.toZonedTemporal(time String, format String, timezone String)`:\n",
      "   - This function parses the given date string using the specified format into the given time zone.\n",
      "   - Example:\n",
      "     ```\n",
      "     RETURN apoc.temporal.toZonedTemporal(\"2022-01-15 12:30:00\", \"yyyy-MM-dd HH:mm:ss\", \"America/New_York\") AS zonedTime\n",
      "     ```\n",
      "\n",
      "2. `apoc.temporal.format(temporal Any, format String)`:\n",
      "   - This function formats the given temporal value into the specified time format.\n",
      "   - Example:\n",
      "     ```\n",
      "     RETURN apoc.temporal.format(datetime(), \"yyyy-MM-dd HH:mm:ss\") AS formattedTime\n",
      "     ```\n",
      "\n",
      "3. `apoc.temporal.formatDuration(input Any, format String)`:\n",
      "   - This function formats the given duration into the specified time format.\n",
      "   - Example:\n",
      "     ```\n",
      "     RETURN apoc.temporal.formatDuration(duration({days: 2, hours: 5}), \"D 'days' H 'hours'\") AS formattedDuration\n",
      "     ```\n",
      "\n",
      "4. `apoc.temporal.toZonedTemporal(time String, format String, timezone String)`:\n",
      "   - This function parses the given date string using the specified format into the given time zone.\n",
      "   - Example:\n",
      "     ```\n",
      "     RETURN apoc.temporal.toZonedTemporal(\"2022-01-15 12:30:00\", \"yyyy-MM-dd HH:mm:ss\", \"Europe/London\") AS zonedTime\n",
      "     ```\n",
      "\n",
      "These functions can be used to manipulate and format temporal data in Neo4j queries, allowing for more flexibility and control over date and time values.\n"
     ]
    }
   ],
   "source": [
    "display_results(\"Please explain the APOC Core Temporal Functions and provide examples of their usage.\")"
   ]
  },
  {
   "cell_type": "code",
   "execution_count": 187,
   "id": "3311c3a2-0462-41f0-948e-32d3e3025b4d",
   "metadata": {},
   "outputs": [
    {
     "name": "stdout",
     "output_type": "stream",
     "text": [
      "Used questions? True\n",
      "\n",
      "With questions: The most important differences between APOC Core and APOC Extended are as follows:\n",
      "\n",
      "1. **Official Support**: APOC Core is officially supported by Neo4j, while APOC Extended is maintained by members of the community. This means that APOC Core procedures are officially endorsed and guaranteed to work seamlessly with Neo4j, while APOC Extended procedures may not have the same level of official support.\n",
      "\n",
      "2. **Dependencies**: APOC Core contains battle-hardened procedures and functions with no external dependencies. On the other hand, APOC Extended may contain additional procedures that require external dependencies, which may need to be manually installed.\n",
      "\n",
      "3. **Documentation**: APOC Core has its own dedicated documentation site, separate from the APOC Extended documentation. Each procedure in the documentation is tagged with an \"Extended\" tag if it is part of the APOC Extended edition.\n",
      "\n",
      "4. **Installation Process**: If you are using procedures from the APOC Core edition, the installation process remains the same. However, if you need to use procedures from the APOC Extended edition, you will need to manually download and copy the Extended edition from the GitHub release page.\n",
      "\n",
      "5. **Availability**: The APOC Full package (which included both APOC Core and APOC Extended) is no longer available. Users must now choose between using the officially supported APOC Core or the community-managed APOC Extended repository for additional functionality.\n",
      "\n",
      "In summary, APOC Core is the officially supported version with no external dependencies, while APOC Extended provides additional procedures that may require external dependencies and are not officially supported by Neo4j.\n",
      "\n",
      "Context only used in question response: []\n",
      "\n",
      "Without questions: The most important differences between APOC Core and APOC Extended are as follows:\n",
      "\n",
      "1. **Official Support**: APOC Core is officially supported by Neo4j, while APOC Extended is maintained by members of the community. This means that APOC Core procedures are officially endorsed and tested by Neo4j, while APOC Extended procedures are community-managed and may not have the same level of official support.\n",
      "\n",
      "2. **Dependencies**: APOC Core contains battle-hardened procedures and functions with no external dependencies. On the other hand, the extended edition (APOC Extended) contains additional procedures that might require external dependencies and are not officially supported.\n",
      "\n",
      "3. **Documentation**: There are two separate documentation sites for the two editions: APOC Core documentation and APOC Extended documentation. Each procedure is tagged with an Extended tag in the documentation if it is not part of the Core edition.\n",
      "\n",
      "4. **Installation Process**: If you are using procedures from the Core edition, nothing has changed in the installation process. However, if you are using any procedures from the Extended edition, you need to manually download and copy the Extended edition from the GitHub release page.\n",
      "\n",
      "5. **Availability**: The APOC Full package (APOC Core + APOC Extended) is no longer available. To use non-supported APOC Extended procedures and functions, you need to refer to the APOC Extended repository.\n",
      "\n",
      "Overall, APOC Core is the officially supported version with no external dependencies, while APOC Extended contains additional procedures that may require external dependencies and are community-managed.\n",
      "\n",
      "Context only used in documents-only response: []\n"
     ]
    }
   ],
   "source": [
    "display_results(\"What are the most important differences between APOC Core and APOC Extended?\")"
   ]
  },
  {
   "cell_type": "code",
   "execution_count": 188,
   "id": "ef60fd19-d735-4c09-9e47-805f6ff5b294",
   "metadata": {},
   "outputs": [
    {
     "name": "stdout",
     "output_type": "stream",
     "text": [
      "Used questions? True\n",
      "\n",
      "With questions: Weakly Connected Components (WCC) algorithm helps you find disconnected parts or islands within a network by identifying clusters in a graph where each node can reach every other node if the relationship direction is ignored. This means that nodes within the same component can reach each other, but there may not be connections between different components. By running the WCC algorithm on a graph, you can identify separate islands or components of nodes that are not connected to each other, thus helping you understand the overall connectivity of the network.\n",
      "\n",
      "Context only used in question response: []\n",
      "\n",
      "Without questions: The Weakly Connected Components (WCC) algorithm helps you find disconnected parts or islands within a network by identifying sets of connected nodes where each node can reach every other node if the relationship direction is ignored. This means that nodes within the same component can reach each other, but there may not be connections between different components. By running the WCC algorithm on a graph, you can determine how many disconnected parts or islands exist within the network, allowing you to evaluate the overall connectivity of the graph.\n",
      "\n",
      "Context only used in documents-only response: []\n"
     ]
    }
   ],
   "source": [
    "display_results(\"How does Weakly Connected Components (WCC) help you find disconnected parts in a network?\")"
   ]
  },
  {
   "cell_type": "code",
   "execution_count": 189,
   "id": "c93290d2-0fff-4f62-9e84-13a2b82c5505",
   "metadata": {},
   "outputs": [
    {
     "name": "stdout",
     "output_type": "stream",
     "text": [
      "Used questions? False\n",
      "\n",
      "With questions: You should consider using Leiden instead of Louvain for community detection when you want to use a hierarchical approach to community detection and when a slightly higher computational cost is an acceptable tradeoff. Leiden algorithm provides improvements over Louvain for detecting smaller communities within a graph. It incorporates a refinement phase that enhances its ability to detect smaller communities compared to Louvain. Additionally, Leiden is a good choice when you need to identify communities in large-scale networks and are interested in understanding their hierarchical structure.\n",
      "\n",
      "Without questions: Leiden is a likely the optimal choice when you want to use a hierarchical approach to community detection and when a slightly higher computational cost is an acceptable tradeoff. Leiden algorithm performs the same hierarchical community detection as the Louvain algorithm but with improvements that address Louvain's challenges with detecting small communities. It incorporates a 'refinement' phase into the algorithm, improving how it can detect smaller communities.\n"
     ]
    }
   ],
   "source": [
    "display_results(\"When should I use Leiden instead of Louvain for community detection?\")"
   ]
  },
  {
   "cell_type": "code",
   "execution_count": 190,
   "id": "8505fad9-a4f8-42a9-b32b-a98b4ccebbb0",
   "metadata": {},
   "outputs": [
    {
     "name": "stdout",
     "output_type": "stream",
     "text": [
      "Used questions? True\n",
      "\n",
      "With questions: You should choose the Leiden algorithm for community detection when you want to use a hierarchical approach to community detection and when a slightly higher computational cost is an acceptable tradeoff. Leiden algorithm performs hierarchical community detection similar to Louvain but with improvements that address Louvain's challenges with detecting small communities. It incorporates a 'refinement' phase into the algorithm, enhancing its ability to detect smaller communities within the graph.\n",
      "\n",
      "Context only used in question response: ['3. Examples In this section we will show examples of running the Leiden community detection algorithm on a concrete graph. The intention is to illustrate what the results look like and to provide a guide in how to make use of the algorithm in a real setting. We will do this on a small social network graph of a handful nodes connected in a particular pattern. The example graph looks like this: The following Cypher statement will create the example graph in the Neo4j database:', '3.7. Using intermediate communities As described before, Leiden is a hierarchical clustering algorithm. That means that after every clustering step all nodes that belong to the same cluster are reduced to a single node. Relationships between nodes of the same cluster become self-relationships, relationships to nodes of other clusters connect to the clusters representative. This condensed graph is then used to run the next level of clustering. The process is repeated until the clusters are stable.', 'The Leiden algorithm is a hierarchical clustering algorithm, that recursively merges communities into single nodes by greedily optimizing the modularity and the process repeats in the condensed graph. It modifies the Louvain algorithm to address some of its shortcomings, namely the case where some of the communities found by Louvain are not well-connected. This is achieved by periodically randomly breaking down communities into smaller well-connected ones. For more information on this algorithm, see:', 'To analyze whether this regional clustering exists in our supply chain network, and if so, identify and label the stages within them, we can use the Louvain algorithm. Technically speaking, the Louvain algorithm runs recursively to optimize a modularity score – essentially seeking to assign nodes to communities such that they are as densely connected within the community as possible relative to other random nodes in the graph.', 'Using Louvain Community Detection Louvain is useful for exploratory analysis of communities because it uses a form of modularity scoring to split up the graph into hierarchical clusters. This means that your theories around fraud patterns and graph structure don’t need to be exact for it to provide informative communities and insights.']\n",
      "\n",
      "Without questions: You should choose the Leiden algorithm for community detection when you want to use a hierarchical approach to community detection and when a slightly higher computational cost is an acceptable tradeoff. Leiden algorithm provides improvements over Louvain for detecting smaller communities within a graph. It incorporates a 'refinement' phase into the algorithm, which enhances its ability to detect smaller communities.\n",
      "\n",
      "Context only used in documents-only response: ['Community detection Community detection algorithms are used to evaluate how groups of nodes are clustered or partitioned, as well as their tendency to strengthen or break apart. The Neo4j GDS library includes the following community detection algorithms, grouped by quality tier: Production-quality  Louvain  Label Propagation  Weakly Connected Components  Triangle Count  Local Clustering Coefficient  K-Core Decomposition Beta  K-1 Coloring  Modularity Optimization  K-Means Clustering  Leiden', 'Identifying & Interpreting Graph Based Metrics In part 1, we learned about graph algorithms relevant to supply chain analytics. Below is a summary for how to interpret the results of these algorithms. I’ve also added an additional centrality algorithm: Eigenvector centrality.', 'If your datasets contain any relationships between data points, it is worth exploring if they can be used to extract predictive features to be used in a downstream machine learning task. We’ve used simple graph algorithms like centrality and community detection in this example, but you can also dabble with more complex ones like graph neural networks or node embedding models. I hope to find more scenarios where more complex algorithms come into play and then write about them.', 'Put anotherway, community detection algorithms identify natural clusters or communities within the graph. As with other families of GDS algoritims, the community detection algorithms approach this task in different ways and for different use cases.</p>\\\\n<h2 tabindex=\\\\\"-1\\\\\" dir=\\\\\"auto\\\\\"><a id=\\\\\"user-content-gds-community-detection-algorithms\\\\\" class=\\\\\"anchor\\\\\" aria-hidden=\\\\\"true\\\\\" href=\\\\\"#gds-community-detection-algorithms\\\\\"><svg class=\\\\\"octicon octicon-link\\\\\" viewBox=\\\\\"0 0 16 16\\\\\" version=\\\\\"1.1\\\\\"', 'Results Now we can a better response and more appropriate response. The more hints you drop to an LLM, the better results you can expect. For example, you can also instruct it which relationships it can traverse. chain.run(\"\"\"How are entities SOUTHWEST LAND DEVELOPMENT LTD. and Dragon Capital Markets Limited connected?Find a shortest path and use only officer, intermediary, and connected relationships.Return only name properties of nodes and relationship types\"\"\") Results']\n"
     ]
    }
   ],
   "source": [
    "display_results(\"When should I use choose the Leiden algorithm for community detection?\")"
   ]
  },
  {
   "cell_type": "code",
   "execution_count": null,
   "id": "4fc29055-7c52-4838-8ed8-d9a72ab096dd",
   "metadata": {},
   "outputs": [],
   "source": []
  }
 ],
 "metadata": {
  "kernelspec": {
   "display_name": "chatbot",
   "language": "python",
   "name": "chatbot"
  },
  "language_info": {
   "codemirror_mode": {
    "name": "ipython",
    "version": 3
   },
   "file_extension": ".py",
   "mimetype": "text/x-python",
   "name": "python",
   "nbconvert_exporter": "python",
   "pygments_lexer": "ipython3",
   "version": "3.11.7"
  }
 },
 "nbformat": 4,
 "nbformat_minor": 5
}
